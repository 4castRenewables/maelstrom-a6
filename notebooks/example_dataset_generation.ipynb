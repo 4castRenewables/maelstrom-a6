{
 "cells": [
  {
   "cell_type": "code",
   "execution_count": null,
   "id": "970e0421",
   "metadata": {},
   "outputs": [],
   "source": [
    "import functools\n",
    "import pathlib\n",
    "\n",
    "import lifetimes"
   ]
  },
  {
   "cell_type": "code",
   "execution_count": null,
   "id": "2efeb4e5",
   "metadata": {},
   "outputs": [],
   "source": [
    "path = pathlib.Path(\"/home/fabian/Documents/MAELSTROM/data/pca/\")\n",
    "outfile = f\"{path}/temperature_level_128_daily_averages_2020.nc\"\n",
    "paths = lifetimes.utils.list_files(path, pattern=\"ml*.nc\")\n",
    "paths"
   ]
  },
  {
   "cell_type": "code",
   "execution_count": null,
   "id": "f0eff53b",
   "metadata": {},
   "outputs": [],
   "source": [
    "preprocess = functools.partial(\n",
    "    lifetimes.datasets.methods.select_level_and_calculate_daily_mean,\n",
    "    level=128,\n",
    ")\n",
    "ds = lifetimes.datasets.EcmwfIfsHres(\n",
    "    paths=paths,\n",
    "    overlapping=True,\n",
    "    preprocessing=preprocess,\n",
    ")"
   ]
  },
  {
   "cell_type": "code",
   "execution_count": null,
   "id": "6dfe7c93",
   "metadata": {},
   "outputs": [],
   "source": [
    "ds.to_netcdf(outfile, drop_variables=[\"q\", \"u\", \"v\"])"
   ]
  },
  {
   "cell_type": "code",
   "execution_count": null,
   "id": "342e34e3",
   "metadata": {},
   "outputs": [],
   "source": []
  }
 ],
 "metadata": {
  "kernelspec": {
   "display_name": "Python 3 (ipykernel)",
   "language": "python",
   "name": "python3"
  },
  "language_info": {
   "codemirror_mode": {
    "name": "ipython",
    "version": 3
   },
   "file_extension": ".py",
   "mimetype": "text/x-python",
   "name": "python",
   "nbconvert_exporter": "python",
   "pygments_lexer": "ipython3",
   "version": "3.9.9"
  }
 },
 "nbformat": 4,
 "nbformat_minor": 5
}
