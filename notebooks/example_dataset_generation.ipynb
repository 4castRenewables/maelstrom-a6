{
 "cells": [
  {
   "cell_type": "code",
   "execution_count": null,
   "id": "970e0421",
   "metadata": {},
   "outputs": [],
   "source": [
    "import functools\n",
    "import pathlib\n",
    "\n",
    "import lifetimes"
   ]
  },
  {
   "cell_type": "code",
   "execution_count": null,
   "id": "2efeb4e5",
   "metadata": {},
   "outputs": [],
   "source": [
    "local_path = pathlib.Path(\"/home/fabian/Documents/MAELSTROM/data/pca/\")\n",
    "outfile = f\"{local_path}/temperature_level_128_daily_averages_2017_2020.nc\"\n",
    "paths = [p.as_posix() for p in sorted(list(local_path.glob(\"ml*.nc\")))]\n",
    "paths"
   ]
  },
  {
   "cell_type": "code",
   "execution_count": null,
   "id": "f0eff53b",
   "metadata": {},
   "outputs": [],
   "source": [
    "preprocess = functools.partial(\n",
    "    lifetimes.features.methods.select_model_level_and_calculate_daily_mean,\n",
    "    level=128,\n",
    ")\n",
    "ds = lifetimes.features.EcmwfIfsHresDataset(\n",
    "    paths=paths,\n",
    "    overlapping=True,\n",
    "    preprocessing=preprocess,\n",
    ")"
   ]
  },
  {
   "cell_type": "code",
   "execution_count": null,
   "id": "03860c81",
   "metadata": {},
   "outputs": [],
   "source": [
    "ds = ds.as_xarray(drop_variables=[\"q\", \"u\", \"v\"])\n",
    "ds[\"time\"]"
   ]
  },
  {
   "cell_type": "code",
   "execution_count": null,
   "id": "6dfe7c93",
   "metadata": {},
   "outputs": [],
   "source": [
    "ds.to_netcdf(outfile)"
   ]
  },
  {
   "cell_type": "code",
   "execution_count": null,
   "id": "0a0f0141",
   "metadata": {},
   "outputs": [],
   "source": []
  }
 ],
 "metadata": {
  "kernelspec": {
   "display_name": "Python 3 (ipykernel)",
   "language": "python",
   "name": "python3"
  },
  "language_info": {
   "codemirror_mode": {
    "name": "ipython",
    "version": 3
   },
   "file_extension": ".py",
   "mimetype": "text/x-python",
   "name": "python",
   "nbconvert_exporter": "python",
   "pygments_lexer": "ipython3",
   "version": "3.9.9"
  }
 },
 "nbformat": 4,
 "nbformat_minor": 5
}
