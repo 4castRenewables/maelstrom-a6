{
 "cells": [
  {
   "cell_type": "code",
   "execution_count": null,
   "id": "970e0421",
   "metadata": {},
   "outputs": [],
   "source": [
    "import functools\n",
    "\n",
    "import xarray as xr\n",
    "\n",
    "import lifetimes"
   ]
  },
  {
   "cell_type": "code",
   "execution_count": null,
   "id": "2efeb4e5",
   "metadata": {},
   "outputs": [],
   "source": [
    "local_path = \"/home/fabian/Documents/MAELSTROM/data/pca/\"\n",
    "outfile = f\"{local_path}/daily_averages_jan_dec_2020.nc\"\n",
    "months = [f\"{i:02d}\" for i in range(1, 13)]\n",
    "paths = [f\"{local_path}/ml_2020{month}01_00.nc\" for month in months]\n",
    "paths"
   ]
  },
  {
   "cell_type": "code",
   "execution_count": null,
   "id": "f0eff53b",
   "metadata": {},
   "outputs": [],
   "source": [
    "def preprocess(path: str) -> xr.Dataset:\n",
    "    d = xr.open_dataset(path, engine=\"netcdf4\")\n",
    "    # Drop all variables except temperature.\n",
    "    d = d.drop([\"q\", \"u\", \"v\"])\n",
    "    # Selcect one exemplary model level and drop this dimension.\n",
    "    d = d.isel(level=0).drop(\"level\")\n",
    "    # Slice data after 48 hours (model runs are for 48h)\n",
    "    d = lifetimes.utils.slice_dataset(\n",
    "        d,\n",
    "        dimension=\"time\",\n",
    "        slice_until=48,\n",
    "    )\n",
    "    d = lifetimes.utils.calculate_daily_averages(d, time_coordinate=\"time\")\n",
    "    return d"
   ]
  },
  {
   "cell_type": "code",
   "execution_count": null,
   "id": "03860c81",
   "metadata": {},
   "outputs": [],
   "source": [
    "ds = preprocess(paths[0])\n",
    "for path in paths[1:]:\n",
    "    dataset = preprocess(path)\n",
    "    ds = xr.concat([ds, dataset], dim=\"time\")"
   ]
  },
  {
   "cell_type": "code",
   "execution_count": null,
   "id": "dc5ddd91",
   "metadata": {},
   "outputs": [],
   "source": [
    "ds[\"time\"].values"
   ]
  },
  {
   "cell_type": "code",
   "execution_count": null,
   "id": "6dfe7c93",
   "metadata": {},
   "outputs": [],
   "source": [
    "ds.to_netcdf(outfile)"
   ]
  },
  {
   "cell_type": "code",
   "execution_count": null,
   "id": "b4706f60",
   "metadata": {},
   "outputs": [],
   "source": [
    "ds = xr.open_dataset(outfile, engine=\"netcdf4\")"
   ]
  },
  {
   "cell_type": "code",
   "execution_count": null,
   "id": "cd09b402",
   "metadata": {},
   "outputs": [],
   "source": [
    "ds"
   ]
  },
  {
   "cell_type": "code",
   "execution_count": null,
   "id": "3ae30272",
   "metadata": {},
   "outputs": [],
   "source": []
  },
  {
   "cell_type": "code",
   "execution_count": null,
   "id": "0a0f0141",
   "metadata": {},
   "outputs": [],
   "source": []
  }
 ],
 "metadata": {
  "kernelspec": {
   "display_name": "Python 3 (ipykernel)",
   "language": "python",
   "name": "python3"
  },
  "language_info": {
   "codemirror_mode": {
    "name": "ipython",
    "version": 3
   },
   "file_extension": ".py",
   "mimetype": "text/x-python",
   "name": "python",
   "nbconvert_exporter": "python",
   "pygments_lexer": "ipython3",
   "version": "3.9.9"
  }
 },
 "nbformat": 4,
 "nbformat_minor": 5
}
