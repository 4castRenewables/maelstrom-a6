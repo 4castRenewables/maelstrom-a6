{
 "cells": [
  {
   "cell_type": "markdown",
   "id": "3224fe85-9303-405a-842f-d37f609ced79",
   "metadata": {},
   "source": [
    "# PCA + k-Means on ERA5 Data\n",
    "\n",
    "## Results\n",
    "\n",
    "- Data loading takes ~5min\n",
    "- Data preprocessing takes ~4min\n",
    "- PCA with 500 PCs takes ~8min\n",
    "- PCA:\n",
    "  - N_pcs=24 cover 0.7 of the variance\n",
    "  - N_pcs=80 cover 0.8 of the variance\n",
    "  - N_pcs=171 cover 0.85 of the variance\n",
    "  - N_pcs=421 cover 0.9 of the variance\n"
   ]
  },
  {
   "cell_type": "code",
   "execution_count": null,
   "id": "0c399384-faab-40e3-8b72-ce854b99d5eb",
   "metadata": {
    "tags": []
   },
   "outputs": [],
   "source": [
    "import a6\n",
    "import sklearn.cluster\n",
    "import sklearn.decomposition\n",
    "import numpy as np\n",
    "import matplotlib.pyplot as plt\n",
    "import pathlib\n",
    "import xarray as xr"
   ]
  },
  {
   "cell_type": "code",
   "execution_count": null,
   "id": "33c8901c-6af3-44d2-a689-7bfe58b49de4",
   "metadata": {
    "tags": []
   },
   "outputs": [],
   "source": [
    "%%time\n",
    "\n",
    "path = pathlib.Path(\n",
    "    \"/p/project/deepacf/maelstrom/emmerich1/data/ecmwf_era5/era5_pl_1964_2023_12.nc\"\n",
    ")\n",
    "ds = xr.open_dataset(path)\n",
    "\n",
    "coordinates = a6.datasets.coordinates.Coordinates()\n",
    "variables = a6.datasets.variables.Model()\n",
    "\n",
    "masked = a6.datasets.methods.mask.set_nans_to_mean(ds, coordinates=coordinates)"
   ]
  },
  {
   "cell_type": "code",
   "execution_count": null,
   "id": "7b82c29b-257d-46ae-bd34-342981d7c0d6",
   "metadata": {
    "tags": []
   },
   "outputs": [],
   "source": [
    "%%time\n",
    "\n",
    "data = (\n",
    "    (\n",
    "        a6.features.methods.weighting.weight_by_latitudes(\n",
    "            latitudes=coordinates.latitude,\n",
    "            use_sqrt=True,\n",
    "        )\n",
    "        >> a6.features.methods.reshape.xarray.reshape_spatio_temporal_data(\n",
    "            # Set to None to avoid memory excess in function\n",
    "            time_coordinate=None,\n",
    "        )\n",
    "        >> a6.features.methods.standardization.normalize_features()\n",
    "    )\n",
    "    .apply_to(masked)\n",
    "    .compute()\n",
    ")\n",
    "del ds\n",
    "del masked"
   ]
  },
  {
   "cell_type": "code",
   "execution_count": null,
   "id": "9b673b37-0dfb-48d8-a689-deeeb61cd732",
   "metadata": {
    "tags": []
   },
   "outputs": [],
   "source": [
    "%%time\n",
    "\n",
    "pca = sklearn.decomposition.PCA(n_components=500, copy_X=False).fit(data)\n",
    "cum_evr = np.cumsum(pca.explained_variance_ratio_)"
   ]
  },
  {
   "cell_type": "code",
   "execution_count": null,
   "id": "2d4ba943-ab8b-45c0-ba9c-e6db20dba516",
   "metadata": {
    "tags": []
   },
   "outputs": [],
   "source": [
    "plt.plot(list(range(pca.n_components_)), cum_evr)\n",
    "for var in np.arange(0, 0.9, 0.1):\n",
    "    n_pcs = np.where(cum_evr > var)[0][0]\n",
    "    print(f\"N_pcs={n_pcs} cover {var} of the variance\")\n",
    "n_pcs = np.where(cum_evr > 0.80)[0][0]\n",
    "transformed = sklearn.decomposition.PCA(n_components=n_pcs).fit_transform(data)\n",
    "kmeans = sklearn.cluster.KMeans(n_clusters=40).fit(transformed)\n",
    "\n",
    "del transformed\n",
    "\n",
    "kmeans.labels_"
   ]
  },
  {
   "cell_type": "markdown",
   "id": "56c04eea-f999-440d-8ab6-dbdc94b8e414",
   "metadata": {},
   "source": [
    "Kernel PCA: Gaussian radial basis function with $\\sigma = 200$ (see http://dx.doi.org/10.1016/j.procs.2011.08.043)"
   ]
  },
  {
   "cell_type": "code",
   "execution_count": null,
   "id": "342af78d-e030-4dd5-a739-87da35235122",
   "metadata": {
    "tags": []
   },
   "outputs": [],
   "source": [
    "%%time\n",
    "kpca = sklearn.decomposition.KernelPCA(\n",
    "    n_components=50, kernel=\"rbf\", gamma=200, copy_X=False, n_jobs=-1\n",
    ").fit(data)\n",
    "cum_evr = np.cumsum(kpca.explained_variance_ratio_)"
   ]
  },
  {
   "cell_type": "code",
   "execution_count": null,
   "id": "7b89ee4d-822e-45ca-8074-c4fef0663c6c",
   "metadata": {
    "tags": []
   },
   "outputs": [],
   "source": [
    "plt.plot(list(range(kpca.n_components_)), cum_evr)\n",
    "for var in np.arange(0, 0.9, 0.1):\n",
    "    n_pcs = np.where(cum_evr > var)[0][0]\n",
    "    print(f\"N_pcs={n_pcs} cover {var} of the variance\")\n",
    "n_pcs = np.where(cum_evr > 0.80)[0][0]\n",
    "transformed = sklearn.decomposition.KernelPCA(\n",
    "    n_components=n_pcs, kernel=\"rbf\", gamma=200, n_jobs=-1\n",
    ").fit_transform(data)\n",
    "kmeans = sklearn.cluster.KMeans(n_clusters=40).fit(transformed)\n",
    "\n",
    "del transformed\n",
    "\n",
    "kmeans.labels_"
   ]
  },
  {
   "cell_type": "code",
   "execution_count": null,
   "id": "d3fa70ea-c233-40d4-80ef-4df17fb8ffb0",
   "metadata": {},
   "outputs": [],
   "source": []
  }
 ],
 "metadata": {
  "kernelspec": {
   "display_name": "a6-cuda",
   "language": "python",
   "name": "a6-cuda"
  },
  "language_info": {
   "codemirror_mode": {
    "name": "ipython",
    "version": 3
   },
   "file_extension": ".py",
   "mimetype": "text/x-python",
   "name": "python",
   "nbconvert_exporter": "python",
   "pygments_lexer": "ipython3",
   "version": "3.11.0rc1"
  }
 },
 "nbformat": 4,
 "nbformat_minor": 5
}
