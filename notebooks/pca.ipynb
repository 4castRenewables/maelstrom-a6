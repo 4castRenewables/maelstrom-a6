{
 "cells": [
  {
   "cell_type": "markdown",
   "id": "987ba3b2",
   "metadata": {},
   "source": [
    "# PCA and Clustering of Weather Data Features\n",
    "\n",
    "The goal is to classify large-scale weather regimes (LSWRs) by performing a PCA on timeseries data containing multiple phyiscal quantities on a large grid covering the whole of Europe.\n",
    "Classification is done by applying a clustering algorithm on the data that assigns each individual time step to a cluster, where outliers are allowed.\n",
    "\n",
    "To allow classification of timeseries grid data, we apply a dimensionality reduction algorithm (PCA) and transform the original data into PC space. The PC space is a multi-dimensional space that represents the phase space of the dynamical system described by the data. To avoid the curse of dimensions, we use only a reduced amount of PCs for the transformation such that the PCs reflect most of the variance of the data.\n",
    "\n",
    "For clustering the states of the dynamical system in PC space, we use the [hierarchical density-based spatial clustering algorithm for applications with noise (HDBSCAN)](https://arxiv.org/abs/1911.02282), which is a modification of the [DBSCAN](https://dl.acm.org/doi/10.5555/3001460.3001507) algorithm.\n",
    "\n",
    "## Data\n",
    "\n",
    "The underlying data are from the ECMWF IFS HRES model. A detailed description can be found [here (pp. 21)](https://www.maelstrom-eurohpc.eu/content/docs/uploads/doc6.pdf).\n",
    "\n",
    "The data cover a time range of 2017-2020 with an hourly temporal resolution. Hence, the data contain `~10^3` samples.\n",
    "\n",
    "## PCA\n",
    "\n",
    "The PCA is performed on the whole dataset, whereas only 3 PCs are kept for the transformation. This is because we only have `10^3` data samples. Choosing more PCs would require more data (curse of dimensions). I.e., using `N` PCs would require at least `10^N` samples.\n",
    "\n",
    "## Clustering\n",
    "\n",
    "Before applying the clustering, the data are transformed into the 3-D sub-space of the PC-space. The result reflects the phase space containing all states of the dynamical system throughout the given time span.\n",
    "\n",
    "Within this space, we perform a clustering to find reoccuring states of the system. Each cluster represents a LSWR, i.e. all clusters represent the ensemble of LSWRs that our system resigned in during the given time range.\n",
    "\n",
    "## Satistical Analysis of the Clusters\n",
    "\n",
    "The clusters (LSWRs) are then statistically analyzed such that we retrieve information about the LSWRs in general (total abundance, mean and standard deviation of their duration) and the appearance of each individual LSWR in the time series."
   ]
  },
  {
   "cell_type": "code",
   "execution_count": null,
   "id": "6bbc4f09",
   "metadata": {},
   "outputs": [],
   "source": [
    "%matplotlib notebook\n",
    "%load_ext dotenv\n",
    "%dotenv mantik.env\n",
    "\n",
    "import functools\n",
    "import itertools\n",
    "\n",
    "import hdbscan\n",
    "import mantik\n",
    "import mlflow\n",
    "import sklearn.cluster as cluster\n",
    "\n",
    "import lifetimes\n",
    "\n",
    "lifetimes.utils.log_to_stdout()\n",
    "mantik.init_tracking()"
   ]
  },
  {
   "cell_type": "code",
   "execution_count": null,
   "id": "8d058472",
   "metadata": {},
   "outputs": [],
   "source": [
    "# Create fake dataset of two temporarily variable elliptical data regions on a grid\n",
    "#dataset = lifetimes.testing.create_dummy_ecmwf_ifs_hres_dataset(\n",
    "#    grid_size=(10, 10)\n",
    "#)\n",
    "#ds = dataset.as_xarray()\n",
    "\n",
    "# Or load from local file\n",
    "path = '/home/fabian/Documents/MAELSTROM/data/pca/temperature_level_128_daily_averages_2017_2020.nc'\n",
    "ds = lifetimes.datasets.EcmwfIfsHres(\n",
    "    paths=[path],\n",
    "    overlapping=False,\n",
    ")\n",
    "\n",
    "data = ds.as_xarray()[\"t\"]\n",
    "data"
   ]
  },
  {
   "cell_type": "code",
   "execution_count": null,
   "id": "f17e5a08",
   "metadata": {},
   "outputs": [],
   "source": [
    "anim = lifetimes.plotting.animate_timeseries(data)"
   ]
  },
  {
   "cell_type": "code",
   "execution_count": null,
   "id": "26681b89",
   "metadata": {},
   "outputs": [],
   "source": [
    "modes = [lifetimes.modes.Modes(feature=data)]\n",
    "pca_partial_method = functools.partial(\n",
    "    lifetimes.modes.methods.spatio_temporal_principal_component_analysis,\n",
    "    time_coordinate=\"time\",\n",
    "    latitude_coordinate=\"latitude\",\n",
    ")\n",
    "[pca] = lifetimes.modes.determine_modes(modes=modes, method=pca_partial_method)"
   ]
  },
  {
   "cell_type": "code",
   "execution_count": null,
   "id": "d88c7a24",
   "metadata": {},
   "outputs": [],
   "source": [
    "lifetimes.plotting.plot_first_three_components_timeseries(pca)"
   ]
  },
  {
   "cell_type": "code",
   "execution_count": null,
   "id": "ca0cea8a",
   "metadata": {},
   "outputs": [],
   "source": [
    "lifetimes.plotting.plot_scree_test(pca, variance_ratio=0.95)"
   ]
  },
  {
   "cell_type": "code",
   "execution_count": null,
   "id": "22b88353",
   "metadata": {},
   "outputs": [],
   "source": [
    "n_components_range = range (3, 4)\n",
    "min_cluster_size_range = range(30, 31)\n",
    "for (\n",
    "    n_components, \n",
    "    min_cluster_size,\n",
    ") in itertools.product(\n",
    "    n_components_range, \n",
    "    min_cluster_size_range,\n",
    "):\n",
    "    #with mlflow.start_run():\n",
    "        algorithm = hdbscan.HDBSCAN(min_cluster_size=min_cluster_size)\n",
    "        clusters = lifetimes.modes.methods.find_principal_component_clusters(\n",
    "            algorithm=algorithm, \n",
    "            pca=pca, \n",
    "            n_components=n_components, \n",
    "            use_varimax=False,\n",
    "        )\n",
    "        #mlflow.log_param(\"n_components\", n_components)\n",
    "        #mlflow.log_param(\"hdbscan_min_cluster_size\", min_cluster_size)\n",
    "        #mlflow.log_metric(\"n_clusters\", clusters.n_clusters)"
   ]
  },
  {
   "cell_type": "code",
   "execution_count": null,
   "id": "72e53088",
   "metadata": {},
   "outputs": [],
   "source": [
    "lifetimes.plotting.plot_first_three_components_timeseries_clusters(clusters)"
   ]
  },
  {
   "cell_type": "code",
   "execution_count": null,
   "id": "6bc2d819",
   "metadata": {},
   "outputs": [],
   "source": [
    "lifetimes.plotting.plot_condensed_tree(clusters)"
   ]
  },
  {
   "cell_type": "code",
   "execution_count": null,
   "id": "f41534db",
   "metadata": {},
   "outputs": [],
   "source": [
    "lifetimes.plotting.plot_single_linkage_tree(clusters)"
   ]
  },
  {
   "cell_type": "code",
   "execution_count": null,
   "id": "e194f809",
   "metadata": {},
   "outputs": [],
   "source": [
    "clusters.labels.plot()"
   ]
  },
  {
   "cell_type": "code",
   "execution_count": null,
   "id": "62cf2673",
   "metadata": {},
   "outputs": [],
   "source": [
    "cluster_lifetimes = lifetimes.modes.methods.determine_lifetimes_of_modes(\n",
    "    modes=clusters.labels,\n",
    "    time_coordinate=\"time\",\n",
    ")\n",
    "cluster_lifetimes"
   ]
  },
  {
   "cell_type": "code",
   "execution_count": null,
   "id": "c7e9315e",
   "metadata": {},
   "outputs": [],
   "source": [
    "pca.components_in_original_shape[0].plot()"
   ]
  },
  {
   "cell_type": "code",
   "execution_count": null,
   "id": "500b8791",
   "metadata": {},
   "outputs": [],
   "source": [
    "clusters.inverse_transformed_cluster(0).plot()"
   ]
  },
  {
   "cell_type": "code",
   "execution_count": null,
   "id": "6cef0a20",
   "metadata": {},
   "outputs": [],
   "source": [
    "clusters.inverse_transformed_cluster(1).plot()"
   ]
  },
  {
   "cell_type": "code",
   "execution_count": null,
   "id": "50f0f4b6",
   "metadata": {},
   "outputs": [],
   "source": []
  }
 ],
 "metadata": {
  "kernelspec": {
   "display_name": "lifetimes",
   "language": "python",
   "name": "lifetimes"
  },
  "language_info": {
   "codemirror_mode": {
    "name": "ipython",
    "version": 3
   },
   "file_extension": ".py",
   "mimetype": "text/x-python",
   "name": "python",
   "nbconvert_exporter": "python",
   "pygments_lexer": "ipython3",
   "version": "3.9.9"
  }
 },
 "nbformat": 4,
 "nbformat_minor": 5
}
