{
 "cells": [
  {
   "cell_type": "code",
   "execution_count": null,
   "id": "6bbc4f09",
   "metadata": {},
   "outputs": [],
   "source": [
    "%matplotlib notebook\n",
    "\n",
    "import functools\n",
    "\n",
    "import lifetimes\n",
    "\n",
    "lifetimes.utils.log_to_stdout()"
   ]
  },
  {
   "cell_type": "code",
   "execution_count": null,
   "id": "8d058472",
   "metadata": {},
   "outputs": [],
   "source": [
    "# Create fake dataset of two temporarily variable elliptical data regions on a grid\n",
    "#dataset = lifetimes.testing.create_dummy_ecmwf_ifs_hres_dataset(\n",
    "#    grid_size=(10, 10)\n",
    "#)\n",
    "#ds = dataset.as_xarray()\n",
    "\n",
    "# Or load from local file\n",
    "path = '/home/fabian/Documents/MAELSTROM/data/pca/temperature_level_128_daily_averages_2020.nc'\n",
    "ds = lifetimes.features.EcmwfIfsHresDataset(\n",
    "    paths=[path],\n",
    "    overlapping=False,\n",
    ")\n",
    "\n",
    "data = ds.as_xarray()[\"t\"]"
   ]
  },
  {
   "cell_type": "code",
   "execution_count": null,
   "id": "f17e5a08",
   "metadata": {},
   "outputs": [],
   "source": [
    "anim = lifetimes.plotting.animate_timeseries(data)"
   ]
  },
  {
   "cell_type": "code",
   "execution_count": null,
   "id": "26681b89",
   "metadata": {},
   "outputs": [],
   "source": [
    "modes = [lifetimes.modes.Modes(feature=data)]\n",
    "pca_partial_method = functools.partial(\n",
    "    lifetimes.modes.methods.spatio_temporal_principal_component_analysis,\n",
    "    time_coordinate=\"time\",\n",
    "    latitude_coordinate=\"latitude\",\n",
    ")\n",
    "[pca] = lifetimes.modes.determine_modes(modes=modes, method=pca_partial_method)"
   ]
  },
  {
   "cell_type": "code",
   "execution_count": null,
   "id": "d88c7a24",
   "metadata": {},
   "outputs": [],
   "source": [
    "lifetimes.plotting.plot_first_three_components_timeseries(pca)"
   ]
  },
  {
   "cell_type": "code",
   "execution_count": null,
   "id": "ca0cea8a",
   "metadata": {
    "scrolled": true
   },
   "outputs": [],
   "source": [
    "lifetimes.plotting.plot_scree_test(pca, variance_ratio=0.95)"
   ]
  },
  {
   "cell_type": "code",
   "execution_count": null,
   "id": "d2df7c52",
   "metadata": {},
   "outputs": [],
   "source": [
    "n_components = 6"
   ]
  },
  {
   "cell_type": "code",
   "execution_count": null,
   "id": "22b88353",
   "metadata": {},
   "outputs": [],
   "source": [
    "clusters = lifetimes.modes.methods.find_principal_component_clusters(\n",
    "    pca, n_components=n_components, use_varimax=False, n_clusters=4,\n",
    ")"
   ]
  },
  {
   "cell_type": "code",
   "execution_count": null,
   "id": "72e53088",
   "metadata": {},
   "outputs": [],
   "source": [
    "lifetimes.plotting.plot_first_three_components_timeseries_clusters(clusters)"
   ]
  },
  {
   "cell_type": "code",
   "execution_count": null,
   "id": "6bc2d819",
   "metadata": {},
   "outputs": [],
   "source": [
    "clusters.labels"
   ]
  },
  {
   "cell_type": "code",
   "execution_count": null,
   "id": "62cf2673",
   "metadata": {},
   "outputs": [],
   "source": [
    "cluster_lifetimes = lifetimes.modes.methods.determine_lifetimes_of_modes(\n",
    "    modes=clusters.labels,\n",
    "    time_coordinate=\"time\",\n",
    ")\n",
    "cluster_lifetimes"
   ]
  },
  {
   "cell_type": "code",
   "execution_count": null,
   "id": "68627c9d",
   "metadata": {},
   "outputs": [],
   "source": []
  }
 ],
 "metadata": {
  "kernelspec": {
   "display_name": "Python 3 (ipykernel)",
   "language": "python",
   "name": "python3"
  },
  "language_info": {
   "codemirror_mode": {
    "name": "ipython",
    "version": 3
   },
   "file_extension": ".py",
   "mimetype": "text/x-python",
   "name": "python",
   "nbconvert_exporter": "python",
   "pygments_lexer": "ipython3",
   "version": "3.9.9"
  }
 },
 "nbformat": 4,
 "nbformat_minor": 5
}
