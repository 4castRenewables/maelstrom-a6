{
 "cells": [
  {
   "cell_type": "code",
   "execution_count": null,
   "id": "6bbc4f09",
   "metadata": {},
   "outputs": [],
   "source": [
    "%matplotlib notebook\n",
    "\n",
    "import functools\n",
    "\n",
    "import matplotlib.pyplot as plt\n",
    "import matplotlib.animation\n",
    "import numpy as np\n",
    "import xarray as xr\n",
    "\n",
    "import lifetimes\n",
    "\n",
    "\n",
    "def animate(data: xr.DataArray, time_coordinate: str = \"time\") -> None:\n",
    "    times = np.datetime_as_string(data[time_coordinate])\n",
    "    fig = plt.figure()\n",
    "    im_plot = plt.imshow(data.isel({time_coordinate: 0}).values, vmin=np.min(data), vmax=np.max(data))\n",
    "    ax = plt.gca()\n",
    "    title = ax.text(0.5, 1.100, f\"time step {times[0]}\", transform=ax.transAxes, ha=\"center\")\n",
    "\n",
    "    def animation(i):\n",
    "        im_plot.set_data(data.isel({time_coordinate: i}).values)\n",
    "        title.set_text(f\"time step {times[i]}\")\n",
    "        return [im_plot]\n",
    "\n",
    "    anim = matplotlib.animation.FuncAnimation(fig, animation, frames=len(data[time_coordinate]))\n",
    "    plt.show()\n",
    "    return anim"
   ]
  },
  {
   "cell_type": "code",
   "execution_count": null,
   "id": "8d058472",
   "metadata": {},
   "outputs": [],
   "source": [
    "# Create fake dataset of two temporarily variable elliptical data regions on a grid\n",
    "dataset = lifetimes.testing.create_dummy_ecmwf_ifs_hres_dataset(\n",
    "    grid_size=(10, 10)\n",
    ")\n",
    "ds = dataset.as_xarray()\n",
    "\n",
    "# Or load from local file\n",
    "#path = '/home/fabian/Documents/MAELSTROM/data/ml_20190101_00.nc'\n",
    "#ds = xr.open_dataset(path).isel(level=0)\n",
    "\n",
    "data = ds[\"ellipse\"]\n",
    "\n",
    "# determing modes (perform spatio-temporal PCA)\n",
    "modes = [lifetimes.modes.Modes(feature=data)]\n",
    "pca_partial_method = functools.partial(\n",
    "    lifetimes.modes.methods.spatio_temporal_principal_component_analysis,\n",
    "    time_coordinate=\"time\",\n",
    "    x_coordinate=None,\n",
    "    y_coordinate=None,\n",
    "    variance_ratio=None,\n",
    ")\n",
    "[pca] = lifetimes.modes.determine_modes(modes=modes, method=pca_partial_method)\n",
    "data.shape"
   ]
  },
  {
   "cell_type": "code",
   "execution_count": null,
   "id": "f17e5a08",
   "metadata": {},
   "outputs": [],
   "source": [
    "anim = animate(data)"
   ]
  },
  {
   "cell_type": "code",
   "execution_count": null,
   "id": "ca0cea8a",
   "metadata": {},
   "outputs": [],
   "source": [
    "pca_da = xr.DataArray(data=pca.components_)\n",
    "pca_da.plot()"
   ]
  },
  {
   "cell_type": "code",
   "execution_count": null,
   "id": "fbef437d",
   "metadata": {},
   "outputs": [],
   "source": [
    "original_shape = pca.components_.reshape(data.shape)\n",
    "original_shape.shape"
   ]
  },
  {
   "cell_type": "code",
   "execution_count": null,
   "id": "0a0e59fb",
   "metadata": {},
   "outputs": [],
   "source": [
    "ds[\"pcs\"] = ([\"time\", \"latitude\", \"longitude\"], original_shape)\n",
    "pca.components_.shape"
   ]
  },
  {
   "cell_type": "code",
   "execution_count": null,
   "id": "e4cc34ba",
   "metadata": {},
   "outputs": [],
   "source": [
    "anim = animate(ds[\"pcs\"])\n",
    "plt.show()"
   ]
  },
  {
   "cell_type": "code",
   "execution_count": null,
   "id": "2e80d8e0",
   "metadata": {},
   "outputs": [],
   "source": [
    "data_weighted = lifetimes.utils.weight_by_latitudes(data, latitudes=\"latitude\")\n",
    "data_standardized = lifetimes.utils.standardize(data_weighted)"
   ]
  },
  {
   "cell_type": "code",
   "execution_count": null,
   "id": "c340ba4f",
   "metadata": {},
   "outputs": [],
   "source": [
    "anim = animate(data_standardized)\n",
    "plt.plot()"
   ]
  },
  {
   "cell_type": "code",
   "execution_count": null,
   "id": "7acebe0f",
   "metadata": {},
   "outputs": [],
   "source": [
    "data_reshaped = lifetimes.utils.reshape_spatio_temporal_numpy_array(data_standardized.values)"
   ]
  },
  {
   "cell_type": "code",
   "execution_count": null,
   "id": "a786eb7c",
   "metadata": {},
   "outputs": [],
   "source": [
    "d, theta = lifetimes.modes.methods.indicators(\n",
    "    data_reshaped, \n",
    "    metric=\"euclidean\", \n",
    "    q=0.97, \n",
    "    pareto_fit=\"scipy\", \n",
    "    theta_fit=\"sueveges\", \n",
    ")\n",
    "\n",
    "indicators = xr.Dataset(\n",
    "    data_vars={\n",
    "        \"d\": ([\"time\"], d),\n",
    "        \"theta\": ([\"time\"], theta),\n",
    "    },\n",
    "    coords={\"time\": data.coords[\"time\"]},\n",
    ")"
   ]
  },
  {
   "cell_type": "code",
   "execution_count": null,
   "id": "1b629cb5",
   "metadata": {},
   "outputs": [],
   "source": [
    "indicators[\"d\"].plot()"
   ]
  },
  {
   "cell_type": "code",
   "execution_count": null,
   "id": "9e10a369",
   "metadata": {},
   "outputs": [],
   "source": [
    "indicators[\"theta\"].plot()"
   ]
  },
  {
   "cell_type": "code",
   "execution_count": null,
   "id": "639460c1",
   "metadata": {},
   "outputs": [],
   "source": []
  }
 ],
 "metadata": {
  "kernelspec": {
   "display_name": "Python 3 (ipykernel)",
   "language": "python",
   "name": "python3"
  },
  "language_info": {
   "codemirror_mode": {
    "name": "ipython",
    "version": 3
   },
   "file_extension": ".py",
   "mimetype": "text/x-python",
   "name": "python",
   "nbconvert_exporter": "python",
   "pygments_lexer": "ipython3",
   "version": "3.9.9"
  }
 },
 "nbformat": 4,
 "nbformat_minor": 5
}
