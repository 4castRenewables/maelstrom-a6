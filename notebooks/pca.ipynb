{
 "cells": [
  {
   "cell_type": "code",
   "execution_count": null,
   "id": "6bbc4f09",
   "metadata": {},
   "outputs": [],
   "source": [
    "%matplotlib notebook\n",
    "\n",
    "import functools\n",
    "\n",
    "import matplotlib.pyplot as plt\n",
    "import matplotlib.animation\n",
    "import numpy as np\n",
    "import xarray as xr\n",
    "\n",
    "import lifetimes\n",
    "\n",
    "\n",
    "def animate(data: xr.DataArray, time_coordinate: str = \"time\") -> None:\n",
    "    times = np.datetime_as_string(data[time_coordinate])\n",
    "    fig = plt.figure()\n",
    "    im_plot = plt.imshow(data.isel({time_coordinate: 0}).values, vmin=np.min(data), vmax=np.max(data))\n",
    "    ax = plt.gca()\n",
    "    title = ax.text(0.5, 1.100, f\"time step {times[0]}\", transform=ax.transAxes, ha=\"center\")\n",
    "\n",
    "    def animation(i):\n",
    "        im_plot.set_data(data.isel({time_coordinate: i}).values)\n",
    "        title.set_text(f\"time step {times[i]}\")\n",
    "        return [im_plot]\n",
    "\n",
    "    anim = matplotlib.animation.FuncAnimation(fig, animation, frames=len(data[time_coordinate]))\n",
    "    plt.show()\n",
    "    return anim"
   ]
  },
  {
   "cell_type": "code",
   "execution_count": null,
   "id": "38507e13",
   "metadata": {},
   "outputs": [],
   "source": [
    "def plot_gallery(images, height, width, rows=3, cols=4, titles=None):\n",
    "    \"\"\"Plot an iterable of images as tiles.\"\"\"\n",
    "    fig = plt.figure()\n",
    "    for i in range(rows * cols):\n",
    "        plt.subplot(rows, cols, i + 1)\n",
    "        plt.imshow(images[i].reshape((height, width)))\n",
    "        if titles is not None:\n",
    "            plt.title(titles[i])\n",
    "        plt.xticks(())\n",
    "        plt.yticks(())\n",
    "    plt.tight_layout()\n",
    "    return fig\n",
    "\n",
    "def plot_pca_components_gallery(pca, height, width, rows, cols):\n",
    "    titles = [f\"EVR: {evr:.2f}\" for evr in pca.explained_variance_ratio_]\n",
    "    fig = plot_gallery(pca.components_, height=height, width=width, rows=rows, cols=cols, titles=titles)\n",
    "    #return fig\n",
    "\n",
    "def weight_by_longitude(data, longitude_dimension_name=\"longitude\"):\n",
    "    data_tmp = data.copy()\n",
    "    data_tmp[\"longitudinal_weights\"] = 1/np.cos(_degrees_to_radians(data_tmp[longitude_dimension_name]))\n",
    "    data_tmp *= data_tmp[\"longitudinal_weights\"]\n",
    "    return data_tmp\n",
    "    \n",
    "def _degrees_to_radians(d):\n",
    "    return np.radians(d)\n",
    "\n"
   ]
  },
  {
   "cell_type": "code",
   "execution_count": null,
   "id": "8d058472",
   "metadata": {},
   "outputs": [],
   "source": [
    "# Create fake dataset of two temporarily variable elliptical data regions on a grid\n",
    "width = 10\n",
    "height = 10\n",
    "dataset = lifetimes.testing.create_dummy_ecmwf_ifs_hres_dataset(\n",
    "    grid_size=(width, height)\n",
    ")\n",
    "ds = dataset.as_xarray()\n",
    "\n",
    "# Or load from local file\n",
    "#path = '/home/fabian/Documents/MAELSTROM/data/ml_20190101_00.nc'\n",
    "#ds = xr.open_dataset(path).isel(level=0)\n",
    "\n",
    "data = ds[\"ellipse\"]\n",
    "\n",
    "# determing modes (perform spatio-temporal PCA)\n",
    "modes = [lifetimes.modes.Modes(feature=data)]\n",
    "pca_partial_method = functools.partial(\n",
    "    lifetimes.modes.methods.spatio_temporal_principal_component_analysis,\n",
    "    time_coordinate=\"time\",\n",
    "    x_coordinate=None,\n",
    "    y_coordinate=None,\n",
    "    variance_ratio=None,\n",
    ")\n",
    "[pca] = lifetimes.modes.determine_modes(modes=modes, method=pca_partial_method)\n"
   ]
  },
  {
   "cell_type": "code",
   "execution_count": null,
   "id": "6a1a36bf",
   "metadata": {},
   "outputs": [],
   "source": [
    "data"
   ]
  },
  {
   "cell_type": "code",
   "execution_count": null,
   "id": "f17e5a08",
   "metadata": {},
   "outputs": [],
   "source": [
    "anim = animate(data)"
   ]
  },
  {
   "cell_type": "code",
   "execution_count": null,
   "id": "ca0cea8a",
   "metadata": {},
   "outputs": [],
   "source": [
    "plot_pca_components_gallery(pca, width, height, cols = 2, rows=2)"
   ]
  },
  {
   "cell_type": "code",
   "execution_count": null,
   "id": "195e2a8c",
   "metadata": {},
   "outputs": [],
   "source": [
    "import sklearn.decomposition\n",
    "rotated = sklearn.decomposition._factor_analysis._ortho_rotation(pca.components_.T)"
   ]
  },
  {
   "cell_type": "code",
   "execution_count": null,
   "id": "e08c7134",
   "metadata": {},
   "outputs": [],
   "source": [
    "plot_gallery(rotated, width, height, rows=2, cols=2)"
   ]
  },
  {
   "cell_type": "code",
   "execution_count": null,
   "id": "fbef437d",
   "metadata": {},
   "outputs": [],
   "source": [
    "original_shape = pca.components_.reshape(data.shape)\n",
    "original_shape.shape"
   ]
  },
  {
   "cell_type": "code",
   "execution_count": null,
   "id": "0a0e59fb",
   "metadata": {},
   "outputs": [],
   "source": [
    "ds[\"pcs\"] = ([\"time\", \"lat\", \"lon\"], original_shape)\n",
    "pca.components_.shape"
   ]
  },
  {
   "cell_type": "code",
   "execution_count": null,
   "id": "e4cc34ba",
   "metadata": {},
   "outputs": [],
   "source": [
    "anim = animate(ds[\"pcs\"])\n",
    "plt.show()"
   ]
  },
  {
   "cell_type": "code",
   "execution_count": null,
   "id": "2e80d8e0",
   "metadata": {},
   "outputs": [],
   "source": [
    "data_weighted = lifetimes.utils.weight_by_latitudes(data, latitudes=\"lat\")\n",
    "data_standardized = lifetimes.utils.standardize(data_weighted)"
   ]
  },
  {
   "cell_type": "code",
   "execution_count": null,
   "id": "c340ba4f",
   "metadata": {},
   "outputs": [],
   "source": [
    "anim = animate(data_standardized)\n",
    "plt.plot()"
   ]
  }
 ],
 "metadata": {
  "kernelspec": {
   "display_name": "Python 3 (ipykernel)",
   "language": "python",
   "name": "python3"
  },
  "language_info": {
   "codemirror_mode": {
    "name": "ipython",
    "version": 3
   },
   "file_extension": ".py",
   "mimetype": "text/x-python",
   "name": "python",
   "nbconvert_exporter": "python",
   "pygments_lexer": "ipython3",
   "version": "3.9.7"
  }
 },
 "nbformat": 4,
 "nbformat_minor": 5
}
