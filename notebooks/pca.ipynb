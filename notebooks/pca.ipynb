{
 "cells": [
  {
   "cell_type": "code",
   "execution_count": null,
   "id": "6bbc4f09",
   "metadata": {},
   "outputs": [],
   "source": [
    "%matplotlib notebook\n",
    "\n",
    "import functools\n",
    "\n",
    "import matplotlib.pyplot as plt\n",
    "import matplotlib.animation\n",
    "import numpy as np\n",
    "import xarray as xr\n",
    "\n",
    "import lifetimes"
   ]
  },
  {
   "cell_type": "code",
   "execution_count": null,
   "id": "38507e13",
   "metadata": {},
   "outputs": [],
   "source": [
    "def plot_gallery(images, height, width, rows=3, cols=4, titles=None):\n",
    "    \"\"\"Plot an iterable of images as tiles.\"\"\"\n",
    "    fig = plt.figure()\n",
    "    for i in range(rows * cols):\n",
    "        plt.subplot(rows, cols, i + 1)\n",
    "        plt.imshow(images[i].reshape((height, width)))\n",
    "        if titles is not None:\n",
    "            plt.title(titles[i])\n",
    "        plt.xticks(())\n",
    "        plt.yticks(())\n",
    "    plt.tight_layout()\n",
    "    return fig\n",
    "\n",
    "def plot_pca_components_gallery(pca, height, width, rows, cols):\n",
    "    titles = [f\"EVR: {evr:.2f}\" for evr in pca.explained_variance_ratio_]\n",
    "    fig = plot_gallery(pca.components_, height=height, width=width, rows=rows, cols=cols, titles=titles)\n",
    "    #return fig\n",
    "\n",
    "def weight_by_longitude(data, longitude_dimension_name=\"longitude\"):\n",
    "    data_tmp = data.copy()\n",
    "    data_tmp[\"longitudinal_weights\"] = 1/np.cos(_degrees_to_radians(data_tmp[longitude_dimension_name]))\n",
    "    data_tmp *= data_tmp[\"longitudinal_weights\"]\n",
    "    return data_tmp\n",
    "    \n",
    "def _degrees_to_radians(d):\n",
    "    return np.radians(d)\n",
    "\n"
   ]
  },
  {
   "cell_type": "code",
   "execution_count": null,
   "id": "8d058472",
   "metadata": {},
   "outputs": [],
   "source": [
    "# Create fake dataset of two temporarily variable elliptical data regions on a grid\n",
    "width = 10\n",
    "height = 10\n",
    "dataset = lifetimes.testing.create_dummy_ecmwf_ifs_hres_dataset(\n",
    "    grid_size=(width, height)\n",
    ")\n",
    "ds = dataset.as_xarray()\n",
    "\n",
    "# Or load from local file\n",
    "path = '/home/fabian/Documents/MAELSTROM/data/pca/ecmwf_ifs_hres_daily_temperature_averages_jan_dec_2020.nc'\n",
    "ds = xr.open_dataset(path)\n",
    "\n",
    "data = ds[\"t\"]\n",
    "\n",
    "# determing modes (perform spatio-temporal PCA)\n",
    "modes = [lifetimes.modes.Modes(feature=data)]\n",
    "pca_partial_method = functools.partial(\n",
    "    lifetimes.modes.methods.spatio_temporal_principal_component_analysis,\n",
    "    time_coordinate=\"time\",\n",
    "    latitude_coordinate=\"latitude\",\n",
    ")\n",
    "[pca] = lifetimes.modes.determine_modes(modes=modes, method=pca_partial_method)\n"
   ]
  },
  {
   "cell_type": "code",
   "execution_count": null,
   "id": "6a1a36bf",
   "metadata": {},
   "outputs": [],
   "source": [
    "anim = lifetimes.plotting.animate_timeseries(data)"
   ]
  },
  {
   "cell_type": "code",
   "execution_count": null,
   "id": "f17e5a08",
   "metadata": {},
   "outputs": [],
   "source": [
    "lifetimes.plotting.plot_scree_test(pca, variance_ratio=0.95)\n",
    "n_components = 6"
   ]
  },
  {
   "cell_type": "code",
   "execution_count": null,
   "id": "1923f32b",
   "metadata": {},
   "outputs": [],
   "source": [
    "lifetimes.plotting.plot_first_three_components_timeseries(pca)"
   ]
  },
  {
   "cell_type": "code",
   "execution_count": null,
   "id": "22b88353",
   "metadata": {},
   "outputs": [],
   "source": [
    "clusters = lifetimes.modes.methods.find_principal_component_clusters(\n",
    "    pca, n_components=n_components, n_clusters=4,\n",
    ")\n",
    "lifetimes.plotting.plot_first_three_components_timeseries_clusters(clusters)"
   ]
  },
  {
   "cell_type": "code",
   "execution_count": null,
   "id": "6bc2d819",
   "metadata": {},
   "outputs": [],
   "source": [
    "clusters.labels.plot()"
   ]
  },
  {
   "cell_type": "code",
   "execution_count": null,
   "id": "2e80d8e0",
   "metadata": {},
   "outputs": [],
   "source": [
    "data_weighted = lifetimes.utils.weight_by_latitudes(\n",
    "    data, latitudes=\"latitude\"\n",
    ")\n",
    "data_standardized = lifetimes.utils.standardize(data_weighted)"
   ]
  },
  {
   "cell_type": "code",
   "execution_count": null,
   "id": "c340ba4f",
   "metadata": {},
   "outputs": [],
   "source": [
    "original_shape = pca.components_.reshape(data.shape)\n",
    "original_shape.shape"
   ]
  },
  {
   "cell_type": "code",
   "execution_count": null,
   "id": "0a0e59fb",
   "metadata": {},
   "outputs": [],
   "source": [
    "data_reshaped = lifetimes.utils.reshape_spatio_temporal_numpy_array(\n",
    "    data_standardized.values\n",
    ")"
   ]
  },
  {
   "cell_type": "code",
   "execution_count": null,
   "id": "e4cc34ba",
   "metadata": {},
   "outputs": [],
   "source": [
    "anim = animate(ds[\"pcs\"])\n",
    "plt.show()"
   ]
  },
  {
   "cell_type": "code",
   "execution_count": null,
   "id": "2e80d8e0",
   "metadata": {},
   "outputs": [],
   "source": [
    "data_weighted = lifetimes.utils.weight_by_latitudes(data, latitudes=\"lat\")\n",
    "data_standardized = lifetimes.utils.standardize(data_weighted)"
   ]
  },
  {
   "cell_type": "code",
   "execution_count": null,
   "id": "c340ba4f",
   "metadata": {},
   "outputs": [],
   "source": [
    "anim = animate(data_standardized)\n",
    "plt.plot()"
   ]
  }
 ],
 "metadata": {
  "kernelspec": {
   "display_name": "Python 3 (ipykernel)",
   "language": "python",
   "name": "python3"
  },
  "language_info": {
   "codemirror_mode": {
    "name": "ipython",
    "version": 3
   },
   "file_extension": ".py",
   "mimetype": "text/x-python",
   "name": "python",
   "nbconvert_exporter": "python",
   "pygments_lexer": "ipython3",
   "version": "3.9.7"
  }
 },
 "nbformat": 4,
 "nbformat_minor": 5
}
