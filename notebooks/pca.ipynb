{
 "cells": [
  {
   "cell_type": "code",
   "execution_count": null,
   "id": "6bbc4f09",
   "metadata": {},
   "outputs": [],
   "source": [
    "%matplotlib notebook\n",
    "%load_ext dotenv\n",
    "%dotenv mantik.env\n",
    "\n",
    "import functools\n",
    "import itertools\n",
    "\n",
    "import hdbscan\n",
    "import mantik\n",
    "import mlflow\n",
    "from sklearn import cluster\n",
    "\n",
    "import lifetimes\n",
    "\n",
    "lifetimes.utils.log_to_stdout()\n",
    "mantik.init_tracking()"
   ]
  },
  {
   "cell_type": "code",
   "execution_count": null,
   "id": "8d058472",
   "metadata": {},
   "outputs": [],
   "source": [
    "# Create fake dataset of two temporarily variable elliptical data regions on a grid\n",
    "#dataset = lifetimes.testing.create_dummy_ecmwf_ifs_hres_dataset(\n",
    "#    grid_size=(10, 10)\n",
    "#)\n",
    "#ds = dataset.as_xarray()\n",
    "\n",
    "# Or load from local file\n",
    "path = '/home/fabian/Documents/MAELSTROM/data/pca/temperature_level_128_daily_averages_2020.nc'\n",
    "ds = lifetimes.features.EcmwfIfsHresDataset(\n",
    "    paths=[path],\n",
    "    overlapping=False,\n",
    ")\n",
    "\n",
    "data = ds.as_xarray()[\"t\"]\n",
    "data"
   ]
  },
  {
   "cell_type": "code",
   "execution_count": null,
   "id": "f17e5a08",
   "metadata": {},
   "outputs": [],
   "source": [
    "anim = lifetimes.plotting.animate_timeseries(data)"
   ]
  },
  {
   "cell_type": "code",
   "execution_count": null,
   "id": "26681b89",
   "metadata": {},
   "outputs": [],
   "source": [
    "modes = [lifetimes.modes.Modes(feature=data)]\n",
    "pca_partial_method = functools.partial(\n",
    "    lifetimes.modes.methods.spatio_temporal_pca,\n",
    "    time_coordinate=\"time\",\n",
    "    latitude_coordinate=\"latitude\",\n",
    ")\n",
    "[pca] = lifetimes.modes.determine_modes(modes=modes, method=pca_partial_method)"
   ]
  },
  {
   "cell_type": "code",
   "execution_count": null,
   "id": "d88c7a24",
   "metadata": {},
   "outputs": [],
   "source": [
    "lifetimes.plotting.plot_first_three_components_timeseries(pca)"
   ]
  },
  {
   "cell_type": "code",
   "execution_count": null,
   "id": "ca0cea8a",
   "metadata": {},
   "outputs": [],
   "source": [
    "lifetimes.plotting.plot_scree_test(pca, variance_ratio=0.95)"
   ]
  },
  {
   "cell_type": "code",
   "execution_count": null,
   "id": "22b88353",
   "metadata": {},
   "outputs": [],
   "source": [
    "n_components_range = range (3, 4)\n",
    "min_cluster_size_range = range(30, 31)\n",
    "for (\n",
    "    n_components, \n",
    "    min_cluster_size,\n",
    ") in itertools.product(\n",
    "    n_components_range, \n",
    "    min_cluster_size_range,\n",
    "):\n",
    "    #with mlflow.start_run():\n",
    "        algorithm = hdbscan.HDBSCAN(min_cluster_size=min_cluster_size)\n",
    "        clusters = lifetimes.modes.methods.find_pc_space_clusters(\n",
    "            algorithm=algorithm, \n",
    "            pca=pca, \n",
    "            n_components=n_components, \n",
    "            use_varimax=False,\n",
    "        )\n",
    "        #mlflow.log_param(\"n_components\", n_components)\n",
    "        #mlflow.log_param(\"hdbscan_min_cluster_size\", min_cluster_size)\n",
    "        #mlflow.log_metric(\"n_clusters\", clusters.n_clusters)"
   ]
  },
  {
   "cell_type": "code",
   "execution_count": null,
   "id": "72e53088",
   "metadata": {},
   "outputs": [],
   "source": [
    "lifetimes.plotting.plot_first_three_components_timeseries_clusters(clusters)"
   ]
  },
  {
   "cell_type": "code",
   "execution_count": null,
   "id": "6bc2d819",
   "metadata": {},
   "outputs": [],
   "source": [
    "lifetimes.plotting.plot_condensed_tree(clusters)"
   ]
  },
  {
   "cell_type": "code",
   "execution_count": null,
   "id": "f41534db",
   "metadata": {},
   "outputs": [],
   "source": [
    "lifetimes.plotting.plot_single_linkage_tree(clusters)"
   ]
  },
  {
   "cell_type": "code",
   "execution_count": null,
   "id": "e194f809",
   "metadata": {},
   "outputs": [],
   "source": [
    "import xarray as xr\n",
    "xr.DataArray(clusters.labels).plot()"
   ]
  },
  {
   "cell_type": "code",
   "execution_count": null,
   "id": "62cf2673",
   "metadata": {},
   "outputs": [],
   "source": [
    "cluster_lifetimes = lifetimes.modes.methods.determine_lifetimes_of_modes(\n",
    "    modes=clusters.labels,\n",
    "    time_coordinate=\"time\",\n",
    ")\n",
    "cluster_lifetimes"
   ]
  },
  {
   "cell_type": "code",
   "execution_count": null,
   "id": "056e1405",
   "metadata": {},
   "outputs": [],
   "source": [
    "algorithm = cluster.KMeans(n_clusters=4)\n",
    "clusters = lifetimes.modes.methods.find_pc_space_clusters(\n",
    "    algorithm=algorithm, \n",
    "    pca=pca, \n",
    "    n_components=n_components, \n",
    "    use_varimax=False,\n",
    ")"
   ]
  },
  {
   "cell_type": "code",
   "execution_count": null,
   "id": "80ad0478",
   "metadata": {},
   "outputs": [],
   "source": [
    "lifetimes.plotting.plot_first_three_components_timeseries_clusters(clusters)"
   ]
  },
  {
   "cell_type": "code",
   "execution_count": null,
   "id": "481da327",
   "metadata": {},
   "outputs": [],
   "source": [
    "import pandas as pd\n",
    "path = \"/home/fabian/Downloads/runs.csv\"\n",
    "df = pd.read_csv(path)"
   ]
  },
  {
   "cell_type": "code",
   "execution_count": null,
   "id": "2f379abf",
   "metadata": {},
   "outputs": [],
   "source": [
    "pivoted = df.pivot(index='hdbscan_min_cluster_size', columns='n_components', values='n_clusters')\n",
    "pivoted"
   ]
  },
  {
   "cell_type": "code",
   "execution_count": null,
   "id": "e93579f7",
   "metadata": {},
   "outputs": [],
   "source": [
    "ax = pivoted.plot(logy=False)\n",
    "ax.set_ylabel(\"n_clusters\")"
   ]
  },
  {
   "cell_type": "code",
   "execution_count": null,
   "id": "c7e9315e",
   "metadata": {},
   "outputs": [],
   "source": [
    "import xarray as xr\n",
    "import numpy as np\n",
    "xr.DataArray(pca.components_in_original_shape[0]).plot()"
   ]
  },
  {
   "cell_type": "code",
   "execution_count": null,
   "id": "b5216a07",
   "metadata": {},
   "outputs": [],
   "source": [
    "center_1 = clusters.model.weighted_cluster_centroid(0)\n",
    "center_2 = clusters.model.weighted_cluster_centroid(1)\n",
    "print(center_1, center_2)"
   ]
  },
  {
   "cell_type": "code",
   "execution_count": null,
   "id": "500b8791",
   "metadata": {},
   "outputs": [],
   "source": [
    "xr.DataArray(pca.inverse_transform(center_1, n_components=clusters.n_components)).plot()"
   ]
  },
  {
   "cell_type": "code",
   "execution_count": null,
   "id": "6cef0a20",
   "metadata": {},
   "outputs": [],
   "source": [
    "xr.DataArray(pca.inverse_transform(center_2, n_components=clusters.n_components)).plot()"
   ]
  },
  {
   "cell_type": "code",
   "execution_count": null,
   "id": "3d92bf97",
   "metadata": {},
   "outputs": [],
   "source": [
    "xr.DataArray(pca.inverse_transform(center_2, n_components=clusters.n_components) - pca.inverse_transform(center_1, n_components=clusters.n_components)).plot()"
   ]
  },
  {
   "cell_type": "code",
   "execution_count": null,
   "id": "defca2f3",
   "metadata": {},
   "outputs": [],
   "source": [
    "# druck luftfeuchte verwirbelung (3 therme)\n",
    "data.isel({\"time\": 0}).plot()"
   ]
  },
  {
   "cell_type": "code",
   "execution_count": null,
   "id": "50f0f4b6",
   "metadata": {},
   "outputs": [],
   "source": []
  }
 ],
 "metadata": {
  "kernelspec": {
   "display_name": "lifetimes",
   "language": "python",
   "name": "lifetimes"
  },
  "language_info": {
   "codemirror_mode": {
    "name": "ipython",
    "version": 3
   },
   "file_extension": ".py",
   "mimetype": "text/x-python",
   "name": "python",
   "nbconvert_exporter": "python",
   "pygments_lexer": "ipython3",
   "version": "3.9.9"
  }
 },
 "nbformat": 4,
 "nbformat_minor": 5
}
