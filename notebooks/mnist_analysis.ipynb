{
 "cells": [
  {
   "cell_type": "markdown",
   "id": "a93dc68c",
   "metadata": {},
   "source": [
    "### Analysis of the DCv2 Results for the MNIST Dataset\n",
    "\n",
    "This notebook analyses the results of the unsupervised clustering with DCv2 on the MNIST dataset provided by `torchvision`.\n",
    "\n",
    "The aspects analyzed are:\n",
    "\n",
    "1. Accuracy per MLP head.\n",
    "2. Similarity between the clustering results of the different heads that cluster the same crops (which should become similar).\n"
   ]
  },
  {
   "cell_type": "code",
   "execution_count": null,
   "id": "f4653d99-0ee9-4f04-b5f6-37b7c438a3c9",
   "metadata": {
    "tags": []
   },
   "outputs": [],
   "source": [
    "import sklearn.metrics\n",
    "import torch\n",
    "import pathlib\n",
    "import torchvision\n",
    "\n",
    "device = torch.device(\"cuda:0\")\n",
    "plots = pathlib.Path(\"/p/project1/deepacf/emmerich1/plots/paper-1\")"
   ]
  },
  {
   "cell_type": "code",
   "execution_count": null,
   "id": "4b1c20e3-cc52-4544-9dfd-e3f0348ef0d3",
   "metadata": {
    "tags": []
   },
   "outputs": [],
   "source": [
    "mnist = torchvision.datasets.MNIST(\n",
    "    root=\"/p/project1/deepacf/emmerich1/data/mnist\",\n",
    "    train=True,\n",
    "    download=True,\n",
    ")"
   ]
  },
  {
   "cell_type": "code",
   "execution_count": null,
   "id": "df988dc3-0508-49b0-9941-f2d46539d226",
   "metadata": {
    "tags": []
   },
   "outputs": [],
   "source": [
    "import numpy as np\n",
    "import sklearn.cluster\n",
    "import sklearn.mixture\n",
    "\n",
    "\n",
    "def infer_dataset_labels_for_clusters(\n",
    "    labels_true: torch.LongTensor,\n",
    "    labels_pred: torch.LongTensor,\n",
    "    return_bincount: bool = False,\n",
    ") -> dict[int, int]:\n",
    "    \"\"\"Infer which dataset label corresponds to the respective clusters.\n",
    "\n",
    "    Parameters\n",
    "    ----------\n",
    "    cluster_indexes: torch.Tensor\n",
    "        The cluster indexes.\n",
    "    labels_true : np.ndarray\n",
    "        The true labels for each sample from the dataset.\n",
    "\n",
    "    Returns\n",
    "    -------\n",
    "    dict[int, int]\n",
    "        Contains the k-Means cluster labels as keys, and the\n",
    "        respective real dataset label as value.\n",
    "\n",
    "    \"\"\"\n",
    "    # Maps cluster labels -> dataset labels (e.g. numbers for MNIST)\n",
    "    # E.g. cluster index 2 might correspond\n",
    "    # to the dataset label 7 (number 7 for MNIST).\n",
    "    # Then, `labels_map = {..., 2: 7, ...}`.\n",
    "    labels_map: dict[int, int] = {}\n",
    "    n_clusters = labels_pred.unique().max() + 1\n",
    "\n",
    "    for i in range(n_clusters):\n",
    "        # Get indexes of the samples assigned to the cluster.\n",
    "\n",
    "        # Get the dataset labels for each of the samples.\n",
    "        labels = labels_true[labels_pred == i]\n",
    "        # print(f\"Dataset labels of the samples assigned to cluster {i}: {labels}\")\n",
    "\n",
    "        # Get the number of samples for each dataset label.\n",
    "        counts = labels.bincount()\n",
    "        # print(f\"Counts per dataset label for cluster {i}: {counts}\")\n",
    "\n",
    "        # Assign dataset label with most samples to the respective cluster.\n",
    "        labels_map[i] = counts if return_bincount else counts.argmax()\n",
    "        # print(f\"Cluster {i} corresponds to dataset label {labels_map[i]}\")\n",
    "\n",
    "    return labels_map\n",
    "\n",
    "\n",
    "def infer_predicted_dataset_labels(\n",
    "    labels_pred: torch.LongTensor, cluster_labels_map: dict[int, int]\n",
    ") -> np.ndarray:\n",
    "    \"\"\"Infers the respective dataset label predicted by k-Means for each sample.\"\"\"\n",
    "    return torch.LongTensor(\n",
    "        [cluster_labels_map[int(i)] for i in labels_pred]\n",
    "    ).to(device=device)\n",
    "\n",
    "\n",
    "def accuracy_score(\n",
    "    labels_true: torch.LongTensor, labels_pred: torch.LongTensor\n",
    ") -> float:\n",
    "    return float((labels_true == labels_pred).sum() / labels_true.shape[0])"
   ]
  },
  {
   "cell_type": "code",
   "execution_count": null,
   "id": "3561286e-92c3-46d5-ad4b-f150c388892e",
   "metadata": {
    "tags": []
   },
   "outputs": [],
   "source": [
    "load_to_first_gpu = lambda storage, loc: storage.cuda(0)\n",
    "path = pathlib.Path(\"/p/project1/deepacf/emmerich1/dcv2/mnist-1-node-1-gpu/\")\n",
    "epochs = [int(p.name.split(\"-\")[1]) for p in path.glob(\"*-assignments.pt\")]\n",
    "epochs.sort()\n",
    "epochs"
   ]
  },
  {
   "cell_type": "code",
   "execution_count": null,
   "id": "cdb58cd6-fad6-469d-bf59-dd81336460a1",
   "metadata": {
    "tags": []
   },
   "outputs": [],
   "source": [
    "%%time\n",
    "\n",
    "accuracies = []\n",
    "\n",
    "for epoch in epochs:\n",
    "    indexes = torch.load(\n",
    "        path / f\"epoch-{epoch}-indexes.pt\",\n",
    "        map_location=load_to_first_gpu,\n",
    "    )\n",
    "    assignments = torch.load(\n",
    "        path / f\"epoch-{epoch}-assignments.pt\",\n",
    "        map_location=load_to_first_gpu,\n",
    "    )\n",
    "\n",
    "    accs = []\n",
    "\n",
    "    for i in range(assignments.shape[0]):\n",
    "        labels_dcv2 = assignments[i]\n",
    "        # print(f\"{labels_dcv2=}\")\n",
    "\n",
    "        labels_mnist = torch.LongTensor([sample[1] for sample in mnist]).to(\n",
    "            device=device\n",
    "        )\n",
    "        # print(f\"{labels_mnist=}\")\n",
    "\n",
    "        labels_map = infer_dataset_labels_for_clusters(\n",
    "            labels_true=labels_mnist, labels_pred=labels_dcv2\n",
    "        )\n",
    "        # print(f\"{labels_map=}\")\n",
    "\n",
    "        labels_dcv2_mnist = infer_predicted_dataset_labels(\n",
    "            labels_pred=labels_dcv2, cluster_labels_map=labels_map\n",
    "        )\n",
    "        # print(f\"{labels_dcv2_mnist=}\")\n",
    "\n",
    "        accuracy = accuracy_score(\n",
    "            labels_true=labels_mnist, labels_pred=labels_dcv2_mnist\n",
    "        )\n",
    "        accs.append(accuracy)\n",
    "\n",
    "    accuracies.append(max(accs))\n",
    "\n",
    "dict(zip(epochs, accuracies))"
   ]
  },
  {
   "cell_type": "code",
   "execution_count": null,
   "id": "247c6fc4-a28f-4bd5-91f2-d00be2c43af8",
   "metadata": {
    "tags": []
   },
   "outputs": [],
   "source": [
    "for head_1, head_2 in [\n",
    "    (assignments[0], assignments[2]),\n",
    "    (assignments[1], assignments[3]),\n",
    "]:\n",
    "    labels_true = head_1\n",
    "    labels_pred = head_2\n",
    "    labels_map = infer_dataset_labels_for_clusters(\n",
    "        labels_true=labels_true, labels_pred=labels_pred\n",
    "    )\n",
    "    # print(f\"{labels_map=}\")\n",
    "\n",
    "    labels_dcv2_mnist = infer_predicted_dataset_labels(\n",
    "        labels_pred=labels_pred, cluster_labels_map=labels_map\n",
    "    )\n",
    "    # print(f\"{labels_dcv2_mnist=}\")\n",
    "\n",
    "    accuracy = accuracy_score(labels_true=labels_true, labels_pred=labels_pred)\n",
    "    print(f\"{accuracy=}\")"
   ]
  },
  {
   "cell_type": "code",
   "execution_count": null,
   "id": "063f5f9e-e886-43c7-ae5e-06b985e10579",
   "metadata": {
    "tags": []
   },
   "outputs": [],
   "source": [
    "distances = torch.load(\n",
    "    path / \"epoch-399-distances.pt\",\n",
    "    map_location=load_to_first_gpu,\n",
    ")"
   ]
  },
  {
   "cell_type": "code",
   "execution_count": null,
   "id": "7236b2b8-cb13-40b3-adab-514cce870252",
   "metadata": {
    "tags": []
   },
   "outputs": [],
   "source": [
    "import matplotlib.pyplot as plt\n",
    "\n",
    "dist = distances[0]\n",
    "\n",
    "for cluster_index in range(10):\n",
    "    cluster_samples = assignments[0] == cluster_index\n",
    "    dist_indexes = indexes[0][cluster_samples]\n",
    "    dist_cluster = dist[cluster_samples]\n",
    "    indexes_near_cluster_center = dist_indexes[dist_cluster.argsort()][:16]\n",
    "\n",
    "    _, axs = plt.subplots(4, 4, figsize=(8, 8))\n",
    "    print(f\"==== Cluster {cluster_index} ===\")\n",
    "    for i, row in enumerate(axs):\n",
    "        for j, col in enumerate(row):\n",
    "            index = indexes_near_cluster_center[4 * i + j]\n",
    "            sample, label = mnist[index]\n",
    "            col.imshow(sample, cmap=\"Greys\", interpolation=None)\n",
    "            col.set_title(f\"Number {label}\")\n",
    "            if i < 3:\n",
    "                col.set_xticks([])\n",
    "    plt.show()"
   ]
  },
  {
   "cell_type": "code",
   "execution_count": null,
   "id": "548b764d-9c4d-47d4-a59b-fa9313dddc4d",
   "metadata": {},
   "outputs": [],
   "source": [
    "# Get head with max accuracy\n",
    "assignments = torch.load(\n",
    "    path / \"epoch-399-assignments.pt\",\n",
    "    map_location=load_to_first_gpu,\n",
    ")\n",
    "\n",
    "accs = []\n",
    "\n",
    "for i in range(assignments.shape[0]):\n",
    "    labels_dcv2 = assignments[i]\n",
    "    # print(f\"{labels_dcv2=}\")\n",
    "\n",
    "    labels_mnist = torch.LongTensor([sample[1] for sample in mnist]).to(\n",
    "        device=device\n",
    "    )\n",
    "    # print(f\"{labels_mnist=}\")\n",
    "\n",
    "    labels_map = infer_dataset_labels_for_clusters(\n",
    "        labels_true=labels_mnist, labels_pred=labels_dcv2\n",
    "    )\n",
    "    # print(f\"{labels_map=}\")\n",
    "\n",
    "    labels_dcv2_mnist = infer_predicted_dataset_labels(\n",
    "        labels_pred=labels_dcv2, cluster_labels_map=labels_map\n",
    "    )\n",
    "    # print(f\"{labels_dcv2_mnist=}\")\n",
    "\n",
    "    accuracy = accuracy_score(\n",
    "        labels_true=labels_mnist, labels_pred=labels_dcv2_mnist\n",
    "    )\n",
    "    accs.append((i, accuracy))"
   ]
  },
  {
   "cell_type": "code",
   "execution_count": null,
   "id": "8deed790-4210-446b-8d4b-3c3a463d30a1",
   "metadata": {},
   "outputs": [],
   "source": [
    "max_acc_index = 2\n",
    "\n",
    "labels_dcv2 = assignments[max_acc_index]\n",
    "\n",
    "labels_mnist = torch.LongTensor([sample[1] for sample in mnist]).to(\n",
    "    device=device\n",
    ")\n",
    "\n",
    "bincount_per_cluster = infer_dataset_labels_for_clusters(\n",
    "    labels_true=labels_mnist, labels_pred=labels_dcv2, return_bincount=True\n",
    ")\n",
    "bincount_per_cluster"
   ]
  },
  {
   "cell_type": "code",
   "execution_count": null,
   "id": "c2d98ac9-2df6-4067-a97f-b02cdbc53025",
   "metadata": {},
   "outputs": [],
   "source": [
    "import matplotlib.pyplot as plt\n",
    "import numpy as np\n",
    "\n",
    "# data from https://allisonhorst.github.io/palmerpenguins/\n",
    "width = 0.5\n",
    "\n",
    "fig, ax = plt.subplots(figsize=(4, 3))\n",
    "\n",
    "bottom = np.zeros(10)\n",
    "\n",
    "for i in range(10):\n",
    "    x = list(range(0, len(bincount_per_cluster)))\n",
    "    y = [t[i].cpu() for t in bincount_per_cluster.values()]\n",
    "    ax.bar(x, y, bottom=bottom, color=plt.cm.tab10(i), label=str(i), width=0.8)\n",
    "    bottom += y\n",
    "\n",
    "ax.set_ylabel(\"# samples\")\n",
    "ax.set_xlabel(\"Cluster\")\n",
    "ax.set_xticks(list(range(10)))\n",
    "ax.legend(loc=\"upper right\", bbox_to_anchor=(1.25, 1.0))\n",
    "\n",
    "plt.savefig(plots / \"figB3.pdf\", bbox_inches=\"tight\")"
   ]
  },
  {
   "cell_type": "code",
   "execution_count": null,
   "id": "5ef35b7c-d48e-40ed-ba51-a6876ae2d606",
   "metadata": {},
   "outputs": [],
   "source": []
  }
 ],
 "metadata": {
  "kernelspec": {
   "display_name": "a6-cuda",
   "language": "python",
   "name": "a6-cuda"
  },
  "language_info": {
   "codemirror_mode": {
    "name": "ipython",
    "version": 3
   },
   "file_extension": ".py",
   "mimetype": "text/x-python",
   "name": "python",
   "nbconvert_exporter": "python",
   "pygments_lexer": "ipython3",
   "version": "3.11.0rc1"
  }
 },
 "nbformat": 4,
 "nbformat_minor": 5
}
