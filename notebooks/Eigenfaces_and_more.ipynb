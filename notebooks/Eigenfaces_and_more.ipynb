{
 "cells": [
  {
   "cell_type": "markdown",
   "id": "0e2a76c6",
   "metadata": {},
   "source": [
    "# Eigenfaces"
   ]
  },
  {
   "cell_type": "code",
   "execution_count": null,
   "id": "dcde5671",
   "metadata": {},
   "outputs": [],
   "source": [
    "import matplotlib.pyplot as plt\n",
    "import numpy as np\n",
    "from sklearn.model_selection import train_test_split\n",
    "from sklearn.datasets import fetch_lfw_people\n",
    "from sklearn.metrics import classification_report\n",
    "from sklearn.decomposition import PCA\n",
    "from sklearn.neural_network import MLPClassifier\n",
    "from sklearn.decomposition._factor_analysis import _ortho_rotation\n",
    "# Load data\n",
    "lfw_dataset = fetch_lfw_people(min_faces_per_person=100)\n",
    "_, h, w = lfw_dataset.images.shape\n",
    "X = lfw_dataset.data\n",
    "y = lfw_dataset.target\n",
    "target_names = lfw_dataset.target_names\n",
    "# split into a training and testing set\n",
    "X_train, X_test, y_train, y_test = train_test_split(X, y, test_size=0.3)"
   ]
  },
  {
   "cell_type": "code",
   "execution_count": null,
   "id": "9220053c",
   "metadata": {},
   "outputs": [],
   "source": [
    "# Compute a PCA \n",
    "n_components = 10\n",
    "pca = PCA(n_components=n_components, whiten=True).fit(X_train)\n",
    "# apply PCA transformation\n",
    "X_train_pca = pca.transform(X_train)\n",
    "X_test_pca = pca.transform(X_test)"
   ]
  },
  {
   "cell_type": "code",
   "execution_count": null,
   "id": "c845047b",
   "metadata": {},
   "outputs": [],
   "source": [
    "\n",
    "def plot_gallery(images, height, width, rows=3, cols=4, titles=None):\n",
    "    \"\"\"Plot an iterable of images as tiles.\"\"\"\n",
    "    fig = plt.figure()\n",
    "    for i in range(rows * cols):\n",
    "        plt.subplot(rows, cols, i + 1)\n",
    "        plt.imshow(images[i].reshape((height, width)))\n",
    "        if titles is not None:\n",
    "            plt.title(titles[i])\n",
    "        plt.xticks(())\n",
    "        plt.yticks(())\n",
    "    plt.tight_layout()\n",
    "    #return fig\n",
    "\n",
    "def plot_pca_components_gallery(pca, height, width, rows, cols):\n",
    "    titles = [f\"EVR: {evr:.2f}\" for evr in pca.explained_variance_ratio_]\n",
    "    plot_gallery(pca.components_, height=height, width=width, rows=rows, cols=cols, titles=titles)\n",
    "    #return fig\n",
    "        \n",
    "def weight_by_longitude(data, longitude_dimension_name=\"longitude\"):\n",
    "    data_tmp = data.copy()\n",
    "    data_tmp[\"longitudinal_weights\"] = 1/np.cos(_degrees_to_radians(data_tmp[longitude_dimension_name]))\n",
    "    data_tmp *= data_tmp[\"longitudinal_weights\"]\n",
    "    return data_tmp\n",
    "    \n",
    "def _degrees_to_radians(d):\n",
    "    return np.radians(d)\n",
    "\n",
    "def plot_pca_components_gallery(pca, height, width, rows, cols):\n",
    "    titles = [f\"EVR: {evr:.2f}\" for evr in pca.explained_variance_ratio_]\n",
    "    fig = plot_gallery(pca.components_, height=height, width=width, rows=rows, cols=cols, titles=titles)\n",
    "    return fig"
   ]
  },
  {
   "cell_type": "code",
   "execution_count": null,
   "id": "b8f43ce5",
   "metadata": {},
   "outputs": [],
   "source": [
    "plot_gallery(X_train[:16], h,w, rows=4, cols=4)"
   ]
  },
  {
   "cell_type": "code",
   "execution_count": null,
   "id": "2786bc94",
   "metadata": {},
   "outputs": [],
   "source": [
    "plot_gallery([pca.mean_], height=h,width=w,rows=1,cols=1)"
   ]
  },
  {
   "cell_type": "code",
   "execution_count": null,
   "id": "4861cc4c",
   "metadata": {},
   "outputs": [],
   "source": [
    "_ = plot_pca_components_gallery(pca, h, w, 3, 3)"
   ]
  },
  {
   "cell_type": "code",
   "execution_count": null,
   "id": "ce6f4773",
   "metadata": {},
   "outputs": [],
   "source": [
    "plot_gallery(pca.inverse_transform(X_train_pca[:16]), h, w, rows=4, cols=4)"
   ]
  },
  {
   "cell_type": "code",
   "execution_count": null,
   "id": "f3988fd7",
   "metadata": {},
   "outputs": [],
   "source": [
    "plot_gallery(X_train[:16], h,w, rows=4, cols=4)"
   ]
  },
  {
   "cell_type": "code",
   "execution_count": null,
   "id": "4b7e2f5a",
   "metadata": {},
   "outputs": [],
   "source": [
    "rotated_faces = _ortho_rotation(pca.components_.T)"
   ]
  },
  {
   "cell_type": "code",
   "execution_count": null,
   "id": "7ab608d6",
   "metadata": {},
   "outputs": [],
   "source": [
    "plot_gallery(rotated_faces[:16], h,w, rows=3, cols=3)"
   ]
  },
  {
   "cell_type": "code",
   "execution_count": null,
   "id": "dff3885f",
   "metadata": {},
   "outputs": [],
   "source": [
    "plt.plot(pca.transform(lfw_dataset.images.reshape(-1,62*47))[:,0],pca.transform(lfw_dataset.images.reshape(-1, 62*47))[:,1], '.')\n",
    "#pca.transform(lfw_dataset.images)\n",
    "lfw_dataset.images.shape"
   ]
  },
  {
   "cell_type": "code",
   "execution_count": null,
   "id": "a2eb620e",
   "metadata": {},
   "outputs": [],
   "source": [
    "import climetlab as cml\n",
    "weather_ml = cml.load_dataset(\"maelstrom-weather-model-level\", date=\"2019-01-02\")\n",
    "data = weather_ml.to_xarray()\n"
   ]
  },
  {
   "cell_type": "code",
   "execution_count": null,
   "id": "2a40c326",
   "metadata": {},
   "outputs": [],
   "source": [
    "data"
   ]
  },
  {
   "cell_type": "code",
   "execution_count": null,
   "id": "68d468f9",
   "metadata": {},
   "outputs": [],
   "source": [
    "data[\"u\"].isel({\"time\": 0, \"level\":9}).plot()"
   ]
  },
  {
   "cell_type": "code",
   "execution_count": null,
   "id": "3c395002",
   "metadata": {},
   "outputs": [],
   "source": [
    "data_fixed_level = data.isel({\"level\":9})"
   ]
  },
  {
   "cell_type": "code",
   "execution_count": null,
   "id": "f5c958e2",
   "metadata": {},
   "outputs": [],
   "source": [
    "data_fixed_level"
   ]
  },
  {
   "cell_type": "code",
   "execution_count": null,
   "id": "d2476e54",
   "metadata": {},
   "outputs": [],
   "source": [
    "temperatures = data_fixed_level[\"t\"]"
   ]
  },
  {
   "cell_type": "code",
   "execution_count": null,
   "id": "19b15785",
   "metadata": {},
   "outputs": [],
   "source": [
    "temperatures_flattened = temperatures.transpose(\"time\", ...).values.reshape(24, 551*351)"
   ]
  },
  {
   "cell_type": "code",
   "execution_count": null,
   "id": "2dc99e6e",
   "metadata": {},
   "outputs": [],
   "source": [
    "temperatures_flattened.shape"
   ]
  },
  {
   "cell_type": "code",
   "execution_count": null,
   "id": "2545a3a9",
   "metadata": {},
   "outputs": [],
   "source": [
    "pca_temperature = PCA(n_components=9)"
   ]
  },
  {
   "cell_type": "code",
   "execution_count": null,
   "id": "d0102d16",
   "metadata": {},
   "outputs": [],
   "source": [
    "pca_temperature.fit(temperatures_flattened)"
   ]
  },
  {
   "cell_type": "code",
   "execution_count": null,
   "id": "f8b55c1b",
   "metadata": {},
   "outputs": [],
   "source": [
    "pca_temperature.components_.shape"
   ]
  },
  {
   "cell_type": "code",
   "execution_count": null,
   "id": "5d338bfb",
   "metadata": {},
   "outputs": [],
   "source": [
    "%matplotlib notebook\n",
    "plot_pca_components_gallery(pca_temperature, 351, 551, rows=3, cols=3)"
   ]
  },
  {
   "cell_type": "code",
   "execution_count": null,
   "id": "b39b18e6",
   "metadata": {},
   "outputs": [],
   "source": [
    "plt.plot(pca_temperature.transform(temperature)[:,0], pca_temperature.transform(temperature)[:,1],'.')"
   ]
  },
  {
   "cell_type": "code",
   "execution_count": null,
   "id": "b91c1e64",
   "metadata": {},
   "outputs": [],
   "source": [
    "plot_gallery([pca_temperature.mean_], 351, 551, rows=1, cols=1)"
   ]
  },
  {
   "cell_type": "code",
   "execution_count": null,
   "id": "5799a54d",
   "metadata": {},
   "outputs": [],
   "source": [
    "plot_gallery(pca_temperature.inverse_transform(pca_temperature.transform(temperatures_flattened)).reshape(24, 351, 551), 351, 551, rows=4, cols=6)"
   ]
  },
  {
   "cell_type": "code",
   "execution_count": null,
   "id": "8cd7fab5",
   "metadata": {},
   "outputs": [],
   "source": [
    "plot_gallery(temperatures_flattened.reshape(24, 351, 551), 351, 551, rows=4, cols=6)"
   ]
  },
  {
   "cell_type": "code",
   "execution_count": null,
   "id": "b5c9c668",
   "metadata": {},
   "outputs": [],
   "source": [
    "import xarray as xr\n",
    "datafiles = [f\"ml_20190{i}01_00.nc\" for i in range(1,7)]\n",
    "ds = xr.open_mfdataset(datafiles)"
   ]
  },
  {
   "cell_type": "code",
   "execution_count": null,
   "id": "6ffa15c1",
   "metadata": {},
   "outputs": [],
   "source": [
    "ds_fixed_level = ds.isel({\"level\":1})"
   ]
  },
  {
   "cell_type": "code",
   "execution_count": null,
   "id": "62e281eb",
   "metadata": {},
   "outputs": [],
   "source": [
    "temperature = ds_fixed_level.transpose(\"time\", ...)[\"t\"].values.reshape(294, 551*351)"
   ]
  },
  {
   "cell_type": "code",
   "execution_count": null,
   "id": "4fd81ebb",
   "metadata": {},
   "outputs": [],
   "source": [
    "pca_t = PCA(n_components=16)\n",
    "pca_t.fit(temperature)"
   ]
  },
  {
   "cell_type": "code",
   "execution_count": null,
   "id": "679d453c",
   "metadata": {},
   "outputs": [],
   "source": [
    "plot_gallery(temperature[:4], 351, 551, rows=2, cols=2)"
   ]
  },
  {
   "cell_type": "code",
   "execution_count": null,
   "id": "36fe6280",
   "metadata": {},
   "outputs": [],
   "source": [
    "plot_pca_components_gallery(pca_t, 351, 551, rows=4, cols=4)"
   ]
  },
  {
   "cell_type": "code",
   "execution_count": null,
   "id": "f228e1a4",
   "metadata": {},
   "outputs": [],
   "source": [
    "plot_gallery([pca_t.mean_], 351, 551, rows=1, cols=1)"
   ]
  },
  {
   "cell_type": "markdown",
   "id": "5fee0a2e",
   "metadata": {},
   "source": [
    "# TODO \n",
    " \n",
    "\n",
    "- Compute explained variance from rotation"
   ]
  },
  {
   "cell_type": "code",
   "execution_count": null,
   "id": "f1c97557",
   "metadata": {},
   "outputs": [],
   "source": [
    "ds_weighted = weight_by_longitude(ds)"
   ]
  },
  {
   "cell_type": "code",
   "execution_count": null,
   "id": "f47be323",
   "metadata": {},
   "outputs": [],
   "source": [
    "ds_weighted_fixed_level = ds_weighted.isel({\"level\":1})"
   ]
  },
  {
   "cell_type": "code",
   "execution_count": null,
   "id": "a8912936",
   "metadata": {},
   "outputs": [],
   "source": [
    "temperature_weighted = ds_weighted_fixed_level.transpose(\"time\", ...)[\"t\"].values.reshape(294, 551*351)"
   ]
  },
  {
   "cell_type": "code",
   "execution_count": null,
   "id": "a0de459e",
   "metadata": {},
   "outputs": [],
   "source": [
    "pca_t_weighted = PCA(n_components=16)\n",
    "pca_t_weighted.fit(temperature_weighted)"
   ]
  },
  {
   "cell_type": "code",
   "execution_count": null,
   "id": "b5a8f8a7",
   "metadata": {},
   "outputs": [],
   "source": [
    "plot_pca_components_gallery(pca_t_weighted, 351, 551, rows=4, cols=4)"
   ]
  },
  {
   "cell_type": "code",
   "execution_count": null,
   "id": "38722e60",
   "metadata": {},
   "outputs": [],
   "source": [
    "rotated = _ortho_rotation(pca_t_weighted.components_.T)"
   ]
  },
  {
   "cell_type": "code",
   "execution_count": null,
   "id": "68391c50",
   "metadata": {},
   "outputs": [],
   "source": [
    "plot_gallery(rotated, 351, 551, rows=4, cols=4)"
   ]
  },
  {
   "cell_type": "code",
   "execution_count": null,
   "id": "ef24c9e1",
   "metadata": {},
   "outputs": [],
   "source": []
  },
  {
   "cell_type": "code",
   "execution_count": null,
   "id": "276526b3",
   "metadata": {},
   "outputs": [],
   "source": []
  }
 ],
 "metadata": {
  "kernelspec": {
   "display_name": "Python 3 (ipykernel)",
   "language": "python",
   "name": "python3"
  },
  "language_info": {
   "codemirror_mode": {
    "name": "ipython",
    "version": 3
   },
   "file_extension": ".py",
   "mimetype": "text/x-python",
   "name": "python",
   "nbconvert_exporter": "python",
   "pygments_lexer": "ipython3",
   "version": "3.9.7"
  }
 },
 "nbformat": 4,
 "nbformat_minor": 5
}
