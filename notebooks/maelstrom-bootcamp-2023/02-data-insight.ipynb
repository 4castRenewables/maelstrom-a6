{
 "cells": [
  {
   "cell_type": "markdown",
   "id": "901e3e02",
   "metadata": {},
   "source": [
    "# Tutorial 1: Numerical weather data\n",
    "\n",
    "**Content creators**: Fabian Emmerich\n",
    "\n",
    "In this tutorial, you will get an insight into the data of a numerical weather model. You will learn how these are strucured and what variables they contain. To do so, we will utilize the [`xarray` Python package](https://xarray.pydata.org), which is designed for labeled, multi-dimensional data."
   ]
  },
  {
   "cell_type": "markdown",
   "id": "c1a1e90d",
   "metadata": {},
   "source": [
    "   \n",
    "## First insight into data of a numerical weather model\n",
    "\n",
    "In this tutorial, we will use data from the ECMWF ERA5 data set. ECMWF, which is an acronym for the European Center for Medium-Range Weather Forecasts, is a multi-national research institue for numerical weather predictions and climate. ECMWF created a set of numerical weather models for different purposes. For a general overview see [here](https://www.ecmwf.int/en/forecasts/documentation-and-support). The models differ from one another in different aspects, e.g.:\n",
    "\n",
    "- Forecast horizon\n",
    "- Spatial resolution\n",
    "- Number of vertical levels (altitudes)\n",
    "- Model complexity\n",
    "- Phyiscal output quantities\n",
    "\n",
    "The [ECMWF ERA5 data](https://www.ecmwf.int/en/forecasts/dataset/ecmwf-reanalysis-v5) are reanalysis data of the earth's entire atmosphere. It has different output formats:\n",
    "\n",
    "- Single level (surface level)\n",
    "- Pressure levels\n",
    "- Model levels\n",
    "- Potential vorticity levels\n",
    "\n",
    "We will now make use of `xarray` to load some of the data from the model levels and take a look at the data structure. \n",
    "\n",
    "There are a bunch of data formats used in meteorology. Two of the most common ones are GRIB and NetCDF. Here, we use data stored in the NetCDF format, which is supported by xarray.\n",
    "\n",
    "### Tasks\n",
    "\n",
    "1. Take a look at the folder located at `/p/project1/training2330/a6/data/ecmwf_era5/`. Which files are located there and what pattern can you recognize from their names\n",
    "1. Load one of the data files with xarray, which provides a method [`xarray.open_dataset`](https://docs.xarray.dev/en/stable/generated/xarray.open_dataset.html) that allows reading files of different formats, including netCDF.\n",
    "1. The above method returns a [`xarray.Dataset`](https://docs.xarray.dev/en/stable/generated/xarray.Dataset.html), which is a data object that allows accessing the underlying data in a quite handy way. Take some time to investigate the dataset. Take a look at the documentation of xarray to find the required methods for the following tasks:\n",
    "   1. What coordinates does the dataset use and in what order? What are their value ranges and resolution (step size)?\n",
    "   1. Does the dataset contain any metadata?\n",
    "   1. Which variables are contained in the given dataset?\n",
    "   1. Take a deeper look at one ore more of these variables. How can you access them? Which physical quantity do they represent and what is their unit? What is their shape?\n",
    "   1. Make a plot of one level and time step of one of these variables. \n",
    "   \n",
    "      *Hint:* xarray has builtin methods that make it easy to plot variables!\n",
    "1. Load another data file. Take a look at the time stamps of this and the previous dataset."
   ]
  },
  {
   "cell_type": "code",
   "execution_count": null,
   "id": "3cd92d8c",
   "metadata": {},
   "outputs": [],
   "source": [
    "# CODE HERE"
   ]
  }
 ],
 "metadata": {
  "kernelspec": {
   "display_name": "maelstrom-bootcamp-2023",
   "language": "python",
   "name": "maelstrom-bootcamp"
  },
  "language_info": {
   "codemirror_mode": {
    "name": "ipython",
    "version": 3
   },
   "file_extension": ".py",
   "mimetype": "text/x-python",
   "name": "python",
   "nbconvert_exporter": "python",
   "pygments_lexer": "ipython3",
   "version": "3.11.6"
  }
 },
 "nbformat": 4,
 "nbformat_minor": 5
}
