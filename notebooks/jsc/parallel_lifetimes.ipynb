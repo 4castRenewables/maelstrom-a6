{
 "cells": [
  {
   "cell_type": "markdown",
   "id": "9a50dae7",
   "metadata": {},
   "source": [
    "# SlurmCluster on JUWELS\n",
    "\n",
    " \n",
    "## Configuring and running a Slurm Cluster\n",
    "\n",
    " - Here we use a client for clusters on Juwels that uses dask in the backend.\n",
    " - The client runs commands inside Singularity containers. The path to the Singularity image has to be given as an environemnt variable `a6.parallel.slurm.SINGULARITY_IMAGE_ENV_VAR`, e.g. as\n",
    "   ```Python\n",
    "   import os\n",
    "\n",
    "   os.environ[a6.parallel.slurm.SINGULARITY_IMAGE_ENV_VAR] = \"<path to Singularity image file>\"\n",
    "\n",
    "   ```\n",
    "   The executable of the dask workers can also be overwritten, though. \n",
    "   E.g. a virtual environment could be loaded and the Python executable be used:\n",
    "   ```Python\n",
    "   client = a6.parallel.slurm.JuwelsClient(\n",
    "       ...\n",
    "       extra_job_commands=[\". /<path to venv>/bin/activate\"],\n",
    "       python_executable=[\"python3\"],\n",
    "   )\n",
    "   ```\n",
    " - Dask will convert all configurations to a batch script which can be inspected via `JuwelsClient.job_script`.\n",
    " - The `port` argument of `JuwelsClient` defines the port used for the dask dashboard. The dashboard can be accessed via `https://jupyter-jsc.fz-juelich.de/user/<user_name>/<lab_name>/proxy/<port>/status`.\n",
    " \n",
    "## Running a distributed program\n",
    "\n",
    " - The `JuwelsClient` instance is initialized with 2 workers by default, running on one node. `with client.scale(...):` enables the user to scale the cluster to the desired capacity. In the notebook, just typing `client.cluster` and hitting return will provide you with a widget in which you can scale your cluster as well.\n",
    " - Dask supports lazy evaluation; more concretely, graph building and graph execution are separated. In your notebook, you can define any function, that computes on a `dask.array`. The function can be called with arguments to give you the graph. `func(*args, **kwargs).compute()` will trigger actual execution. If a cluster is configured and requested in a context via `with client.scale(...)`, the execution is distributed by dask.\n",
    " \n",
    "\n",
    "## Running on Juwels Booster\n",
    "\n",
    "When running on Juwels Booster, i.e. the `booster` partition, the client needs an extra argument for requesting resources since Juwels Booster has only GPU nodes. The GPU nodes in the JUWELS Booster feature four NVIDIA A100 GPUs. The number of requested GPUs must be specified using the `--gres=gpu:X` argument with `X` in the range one to four. Example for 1 GPU:\n",
    "```Python\n",
    "client = a6.parallel.slurm.JuwelsClient(\n",
    "    ...\n",
    "    extra_slurm_options=[\"--gres=gpu:1\"],\n",
    ")\n",
    "```\n",
    " "
   ]
  },
  {
   "cell_type": "code",
   "execution_count": null,
   "id": "4fb325fd",
   "metadata": {},
   "outputs": [],
   "source": [
    "import functools\n",
    "import os\n",
    "import itertools\n",
    "\n",
    "import numpy as np\n",
    "\n",
    "import a6\n",
    "\n",
    "a6.utils.log_to_stdout()\n",
    "\n",
    "os.environ[\n",
    "    a6.parallel.slurm.SINGULARITY_IMAGE_ENV_VAR\n",
    "] = \"/p/scratch/deepacf/emmerich1/jupyter-a6/jupyter-kernel.sif\"\n",
    "\n",
    "data_path = \"/p/scratch/deepacf/maelstrom_data/4cast-application6/ml/temperature_level_128_daily_averages_2017_2020.nc\""
   ]
  },
  {
   "cell_type": "code",
   "execution_count": null,
   "id": "92183e45",
   "metadata": {},
   "outputs": [],
   "source": [
    "queue = \"batch\"\n",
    "project = \"deepacf\"\n",
    "\n",
    "client = a6.parallel.slurm.JuwelsClient(\n",
    "    queue=queue,\n",
    "    project=project,\n",
    "    cores=64,\n",
    "    processes=4,\n",
    "    memory=64,\n",
    "    walltime=\"01:00:00\",\n",
    ")"
   ]
  },
  {
   "cell_type": "code",
   "execution_count": null,
   "id": "af26b613",
   "metadata": {},
   "outputs": [],
   "source": [
    "variance_ratio = [None]\n",
    "n_clusters = [29]\n",
    "use_varimax = [True]\n",
    "\n",
    "method = functools.partial(\n",
    "    a6.benchmark.wrap_benchmark_method_with_logging(a6.pca_and_kmeans),\n",
    "    data_path,\n",
    ")\n",
    "arguments = itertools.product(variance_ratio, n_clusters, use_varimax)"
   ]
  },
  {
   "cell_type": "code",
   "execution_count": null,
   "id": "2869de07",
   "metadata": {},
   "outputs": [],
   "source": [
    "with client.scale(workers=4):\n",
    "    results = client.execute(method, arguments)"
   ]
  },
  {
   "cell_type": "code",
   "execution_count": null,
   "id": "c86d4127",
   "metadata": {},
   "outputs": [],
   "source": []
  }
 ],
 "metadata": {
  "kernelspec": {
   "display_name": "Python 3 (ipykernel)",
   "language": "python",
   "name": "python3"
  },
  "language_info": {
   "codemirror_mode": {
    "name": "ipython",
    "version": 3
   },
   "file_extension": ".py",
   "mimetype": "text/x-python",
   "name": "python",
   "nbconvert_exporter": "python",
   "pygments_lexer": "ipython3",
   "version": "3.9.9"
  }
 },
 "nbformat": 4,
 "nbformat_minor": 5
}
