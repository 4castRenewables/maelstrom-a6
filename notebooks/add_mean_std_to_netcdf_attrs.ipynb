{
 "cells": [
  {
   "cell_type": "code",
   "execution_count": 1,
   "id": "45c1abe3-c2ed-4762-8f22-d10dc37fbcb2",
   "metadata": {
    "tags": []
   },
   "outputs": [
    {
     "name": "stdout",
     "output_type": "stream",
     "text": [
      "[PosixPath('/p/project/training2330/a6/data/ecmwf_era5/nc/era5_pl_1964_1975_12.nc'), PosixPath('/p/project/training2330/a6/data/ecmwf_era5/nc/era5_pl_1976_1987_12.nc'), PosixPath('/p/project/training2330/a6/data/ecmwf_era5/nc/era5_pl_2012_2023_12.nc'), PosixPath('/p/project/training2330/a6/data/ecmwf_era5/nc/era5_pl_2000_2011_12.nc'), PosixPath('/p/project/training2330/a6/data/ecmwf_era5/nc/era5_pl_1988_1999_12.nc')]\n"
     ]
    },
    {
     "name": "stderr",
     "output_type": "stream",
     "text": [
      "/venv/lib/python3.11/site-packages/gribapi/__init__.py:23: UserWarning: ecCodes 2.31.0 or higher is recommended. You are running version 2.30.0\n",
      "  warnings.warn(\n"
     ]
    },
    {
     "name": "stdout",
     "output_type": "stream",
     "text": [
      "/p/project/training2330/a6/data/ecmwf_era5/nc/era5_pl_1964_1975_12.nc processed\n",
      "/p/project/training2330/a6/data/ecmwf_era5/nc/era5_pl_1976_1987_12.nc processed\n",
      "/p/project/training2330/a6/data/ecmwf_era5/nc/era5_pl_2012_2023_12.nc processed\n",
      "/p/project/training2330/a6/data/ecmwf_era5/nc/era5_pl_2000_2011_12.nc processed\n",
      "/p/project/training2330/a6/data/ecmwf_era5/nc/era5_pl_1988_1999_12.nc processed\n"
     ]
    }
   ],
   "source": [
    "import pathlib\n",
    "\n",
    "import xarray as xr\n",
    "\n",
    "\n",
    "paths = list(\n",
    "    pathlib.Path(\"/p/project/training2330/a6/data/ecmwf_era5/nc\").rglob(\n",
    "        \"**/*_12.nc\"\n",
    "    )\n",
    ")\n",
    "\n",
    "print(paths)\n",
    "\n",
    "for path in paths:\n",
    "    ds = xr.open_dataset(path)\n",
    "    ds.attrs[\"mean\"] = tuple(\n",
    "        float(ds.sel(level=level)[variable].mean())\n",
    "        for level in ds.level\n",
    "        for variable in ds.sel(level=level)\n",
    "    )\n",
    "    ds.attrs[\"mean_std_order\"] = tuple(\n",
    "        f\"level={int(level.values)},variable={variable}\"\n",
    "        for level in ds.level\n",
    "        for variable in ds.sel(level=level)\n",
    "    )\n",
    "    ds.attrs[\"std\"] = tuple(\n",
    "        float(ds.sel(level=level)[variable].std())\n",
    "        for level in ds.level\n",
    "        for variable in ds.sel(level=level)\n",
    "    )\n",
    "    ds.attrs[\n",
    "        \"mean_description\"\n",
    "    ] = \"Contains the global mean for each level and variable, e.g. for levels 300 and 500hPa with variables z and r, it contains (in order): mean(z) at 300hPa, mean(r) at 300hPa, mean(z) at 500hPa, mean(r) at 500hPa.\"\n",
    "    ds.attrs[\n",
    "        \"std_description\"\n",
    "    ] = \"Contains the global standard deviation for each level and variable, e.g. for levels 300 and 500hPa with variables z and r, it contains (in order): std(z) at 300hPa, std(r) at 300hPa, std(z) at 500hPa, std(r) at 500hPa.\"\n",
    "    ds.to_netcdf(f\"{path.as_posix().replace('.nc', '')}_with_mean_and_std.nc\")\n",
    "    print(f\"{path} processed\")"
   ]
  },
  {
   "cell_type": "code",
   "execution_count": null,
   "id": "610c03f6-54ff-47b8-a7ee-15ffb6c30fef",
   "metadata": {},
   "outputs": [],
   "source": []
  }
 ],
 "metadata": {
  "kernelspec": {
   "display_name": "maelstrom-bootcamp-2023",
   "language": "python",
   "name": "maelstrom-bootcamp"
  },
  "language_info": {
   "codemirror_mode": {
    "name": "ipython",
    "version": 3
   },
   "file_extension": ".py",
   "mimetype": "text/x-python",
   "name": "python",
   "nbconvert_exporter": "python",
   "pygments_lexer": "ipython3",
   "version": "3.11.6"
  }
 },
 "nbformat": 4,
 "nbformat_minor": 5
}
