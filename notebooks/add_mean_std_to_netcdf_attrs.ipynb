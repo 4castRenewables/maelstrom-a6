{
 "cells": [
  {
   "cell_type": "code",
   "execution_count": null,
   "id": "45c1abe3-c2ed-4762-8f22-d10dc37fbcb2",
   "metadata": {
    "tags": []
   },
   "outputs": [],
   "source": [
    "import pathlib\n",
    "\n",
    "import xarray as xr\n",
    "\n",
    "\n",
    "paths = list(\n",
    "    pathlib.Path(\"/p/project1/training2330/a6/data/ecmwf_era5/nc\").rglob(\n",
    "        \"**/*_12.nc\"\n",
    "    )\n",
    ")\n",
    "\n",
    "print(paths)\n",
    "\n",
    "for path in paths:\n",
    "    ds = xr.open_dataset(path)\n",
    "    ds.attrs[\"mean\"] = tuple(\n",
    "        float(ds.sel(level=level)[variable].mean())\n",
    "        for level in ds.level\n",
    "        for variable in ds.sel(level=level)\n",
    "    )\n",
    "    ds.attrs[\"mean_std_order\"] = tuple(\n",
    "        f\"level={int(level.values)},variable={variable}\"\n",
    "        for level in ds.level\n",
    "        for variable in ds.sel(level=level)\n",
    "    )\n",
    "    ds.attrs[\"std\"] = tuple(\n",
    "        float(ds.sel(level=level)[variable].std())\n",
    "        for level in ds.level\n",
    "        for variable in ds.sel(level=level)\n",
    "    )\n",
    "    ds.attrs[\n",
    "        \"mean_description\"\n",
    "    ] = \"Contains the global mean for each level and variable, e.g. for levels 300 and 500hPa with variables z and r, it contains (in order): mean(z) at 300hPa, mean(r) at 300hPa, mean(z) at 500hPa, mean(r) at 500hPa.\"\n",
    "    ds.attrs[\n",
    "        \"std_description\"\n",
    "    ] = \"Contains the global standard deviation for each level and variable, e.g. for levels 300 and 500hPa with variables z and r, it contains (in order): std(z) at 300hPa, std(r) at 300hPa, std(z) at 500hPa, std(r) at 500hPa.\"\n",
    "    ds.to_netcdf(f\"{path.as_posix().replace('.nc', '')}_with_mean_and_std.nc\")\n",
    "    print(f\"{path} processed\")"
   ]
  },
  {
   "cell_type": "code",
   "execution_count": null,
   "id": "142a20c0-9500-400d-ab32-1134d0461436",
   "metadata": {},
   "outputs": [],
   "source": []
  }
 ],
 "metadata": {
  "kernelspec": {
   "display_name": "maelstrom-bootcamp-2023",
   "language": "python",
   "name": "maelstrom-bootcamp"
  },
  "language_info": {
   "codemirror_mode": {
    "name": "ipython",
    "version": 3
   },
   "file_extension": ".py",
   "mimetype": "text/x-python",
   "name": "python",
   "nbconvert_exporter": "python",
   "pygments_lexer": "ipython3",
   "version": "3.11.6"
  }
 },
 "nbformat": 4,
 "nbformat_minor": 5
}
