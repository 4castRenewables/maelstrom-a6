{
 "cells": [
  {
   "cell_type": "markdown",
   "id": "9e8082e6",
   "metadata": {},
   "source": [
    "# Applying Kernel and Pooling on Fields\n",
    "\n",
    "Apply a kernel and pooling on variables in a dataset to reduce the grid size."
   ]
  },
  {
   "cell_type": "code",
   "execution_count": null,
   "id": "2b6aae63",
   "metadata": {},
   "outputs": [],
   "source": [
    "%load_ext autoreload\n",
    "%autoreload 2"
   ]
  },
  {
   "cell_type": "code",
   "execution_count": null,
   "id": "3dc89885",
   "metadata": {},
   "outputs": [],
   "source": [
    "import a6\n",
    "import typing as t\n",
    "import xarray as xr\n",
    "import math\n",
    "import matplotlib.pyplot as plt\n",
    "import numpy as np\n",
    "import pathlib\n",
    "import cartopy.crs as ccrs"
   ]
  },
  {
   "cell_type": "code",
   "execution_count": null,
   "id": "91946a08",
   "metadata": {},
   "outputs": [],
   "source": [
    "data = xr.open_dataset(\n",
    "    \"/home/fabian/Documents/MAELSTROM/data/pca/pressure_level_500_950_daily_mean_2017_2020.nc\"\n",
    ").sel(level=500)\n",
    "data"
   ]
  },
  {
   "cell_type": "code",
   "execution_count": null,
   "id": "2f151d36",
   "metadata": {},
   "outputs": [],
   "source": [
    "coordinates = a6.datasets.coordinates.Coordinates()\n",
    "variables = a6.datasets.variables.Model()\n",
    "\n",
    "preprocessing = (\n",
    "    a6.datasets.methods.select.select_dwd_area(coordinates=coordinates)\n",
    "    >> a6.features.methods.weighting.weight_by_latitudes(\n",
    "        latitudes=coordinates.latitude,\n",
    "        use_sqrt=True,\n",
    "    )\n",
    "    >> a6.features.methods.geopotential.calculate_geopotential_height(\n",
    "        variables=variables,\n",
    "    )\n",
    "    >> a6.features.methods.wind.calculate_wind_speed(variables=variables)\n",
    "    >> a6.features.methods.variables.drop_variables(\n",
    "        names=[variables.z, variables.u, variables.v]\n",
    "    )\n",
    ")\n",
    "data = preprocessing.apply_to(data)\n",
    "data"
   ]
  },
  {
   "cell_type": "code",
   "execution_count": null,
   "id": "2a646fb6",
   "metadata": {},
   "outputs": [],
   "source": [
    "d = data[variables.geopotential_height]\n",
    "a6.plotting.plot_geopotential_height_contours(d.isel(time=0))\n",
    "plt.show()\n",
    "\n",
    "convolved = a6.features.methods.convolution.apply_kernel(\n",
    "    d, kernel=\"mean\", size=5, non_functional=True\n",
    ")\n",
    "a6.plotting.plot_2d_data(convolved[0], flip=True)\n",
    "plt.show()\n",
    "\n",
    "pooled = a6.features.methods.pooling.apply_pooling(\n",
    "    convolved, mode=\"mean\", size=5, non_functional=True\n",
    ")\n",
    "a6.plotting.plot_2d_data(pooled[0], flip=True)\n",
    "plt.show()"
   ]
  },
  {
   "cell_type": "code",
   "execution_count": null,
   "id": "b43e94cd",
   "metadata": {},
   "outputs": [],
   "source": [
    "var_ssrs = {}\n",
    "sizes = list(range(5, 40, 2))\n",
    "for var in data.data_vars:\n",
    "    d = data[var]\n",
    "    ssrs = [\n",
    "        (\n",
    "            a6.features.methods.convolution.apply_kernel(\n",
    "                kernel=\"mean\", size=size\n",
    "            )\n",
    "            >> a6.evaluation.residuals.calculate_normalized_root_ssr(y_true=d)\n",
    "        ).apply_to(d)\n",
    "        for size in sizes\n",
    "    ]\n",
    "    name = f\"SSR({var})\"\n",
    "    var_ssrs[name] = xr.DataArray(\n",
    "        ssrs, coords={\"size\": sizes}, dims=[\"size\"], name=name\n",
    "    )\n",
    "\n",
    "ds = xr.Dataset(\n",
    "    var_ssrs,\n",
    "    coords={\"size\": sizes},\n",
    ")"
   ]
  },
  {
   "cell_type": "code",
   "execution_count": null,
   "id": "4eff3f06",
   "metadata": {},
   "outputs": [],
   "source": [
    "for var in ds.data_vars:\n",
    "    ax = ds[var].plot(label=var)\n",
    "plt.legend()\n",
    "plt.ylabel(\"SSR\")\n",
    "plt.savefig(\"~/Documents/MAELSTROM/gwl/kernel-size-ssr.pdf\")"
   ]
  },
  {
   "cell_type": "code",
   "execution_count": null,
   "id": "29de499e",
   "metadata": {},
   "outputs": [],
   "source": [
    "ax[0].savefig"
   ]
  },
  {
   "cell_type": "code",
   "execution_count": null,
   "id": "e5906738",
   "metadata": {},
   "outputs": [],
   "source": []
  }
 ],
 "metadata": {
  "kernelspec": {
   "display_name": "a6",
   "language": "python",
   "name": "a6"
  },
  "language_info": {
   "codemirror_mode": {
    "name": "ipython",
    "version": 3
   },
   "file_extension": ".py",
   "mimetype": "text/x-python",
   "name": "python",
   "nbconvert_exporter": "python",
   "pygments_lexer": "ipython3",
   "version": "3.10.8"
  }
 },
 "nbformat": 4,
 "nbformat_minor": 5
}
