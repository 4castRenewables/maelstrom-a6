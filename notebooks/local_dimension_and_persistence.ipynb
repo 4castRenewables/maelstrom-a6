{
 "cells": [
  {
   "cell_type": "code",
   "execution_count": null,
   "id": "53ddbed0",
   "metadata": {},
   "outputs": [],
   "source": [
    "%matplotlib notebook\n",
    "\n",
    "import functools\n",
    "\n",
    "import matplotlib.pyplot as plt\n",
    "import matplotlib.animation\n",
    "import numpy as np\n",
    "import xarray as xr\n",
    "\n",
    "import a6"
   ]
  },
  {
   "cell_type": "code",
   "execution_count": null,
   "id": "abca7572",
   "metadata": {},
   "outputs": [],
   "source": [
    "# Create fake dataset of two temporarily variable elliptical data regions on a grid\n",
    "# dataset = a6.testing.create_dummy_ecmwf_ifs_hres_dataset(\n",
    "#    grid_size=(10, 10)\n",
    "# )\n",
    "# ds = dataset.as_xarray()\n",
    "\n",
    "# Or load from local file\n",
    "path = \"/home/fabian/Documents/MAELSTROM/data/pca/ecmwf_ifs_hres_daily_temperature_averages_jan_dec_2020.nc\"\n",
    "ds = xr.open_dataset(path)\n",
    "\n",
    "data = ds[\"t\"]"
   ]
  },
  {
   "cell_type": "code",
   "execution_count": null,
   "id": "f4c82ca3",
   "metadata": {},
   "outputs": [],
   "source": [
    "data_weighted = a6.utils.weight_by_latitudes(data, latitudes=\"latitude\")\n",
    "data_standardized = a6.utils.standardize(data_weighted)"
   ]
  },
  {
   "cell_type": "code",
   "execution_count": null,
   "id": "13de650a",
   "metadata": {},
   "outputs": [],
   "source": [
    "anim = a6.plotting.animate_timeseries(data_standardized)"
   ]
  },
  {
   "cell_type": "code",
   "execution_count": null,
   "id": "1639c22b",
   "metadata": {},
   "outputs": [],
   "source": [
    "data_reshaped = a6.utils.reshape_spatio_temporal_numpy_array(\n",
    "    data_standardized.values\n",
    ")"
   ]
  },
  {
   "cell_type": "code",
   "execution_count": null,
   "id": "bb9426a8",
   "metadata": {},
   "outputs": [],
   "source": [
    "d, theta = a6.modes.methods.indicators(\n",
    "    data_reshaped,\n",
    "    metric=\"euclidean\",\n",
    "    q=0.97,\n",
    "    pareto_fit=\"scipy\",\n",
    "    theta_fit=\"sueveges\",\n",
    ")\n",
    "\n",
    "indicators = xr.Dataset(\n",
    "    data_vars={\n",
    "        \"d\": ([\"time\"], d),\n",
    "        \"theta\": ([\"time\"], theta),\n",
    "    },\n",
    "    coords={\"time\": data.coords[\"time\"]},\n",
    ")"
   ]
  },
  {
   "cell_type": "code",
   "execution_count": null,
   "id": "b680d07c",
   "metadata": {},
   "outputs": [],
   "source": [
    "indicators[\"d\"].plot()"
   ]
  },
  {
   "cell_type": "code",
   "execution_count": null,
   "id": "e3fc3fce",
   "metadata": {},
   "outputs": [],
   "source": [
    "indicators[\"theta\"].plot()"
   ]
  },
  {
   "cell_type": "code",
   "execution_count": null,
   "id": "a4cbfcbe",
   "metadata": {},
   "outputs": [],
   "source": []
  }
 ],
 "metadata": {
  "kernelspec": {
   "display_name": "Python 3 (ipykernel)",
   "language": "python",
   "name": "python3"
  },
  "language_info": {
   "codemirror_mode": {
    "name": "ipython",
    "version": 3
   },
   "file_extension": ".py",
   "mimetype": "text/x-python",
   "name": "python",
   "nbconvert_exporter": "python",
   "pygments_lexer": "ipython3",
   "version": "3.9.9"
  }
 },
 "nbformat": 4,
 "nbformat_minor": 5
}
