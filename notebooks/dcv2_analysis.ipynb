{
 "cells": [
  {
   "cell_type": "code",
   "execution_count": null,
   "metadata": {},
   "outputs": [],
   "source": [
    "import torch\n",
    "import a6\n",
    "import pathlib\n",
    "import numpy as np\n",
    "import matplotlib.pyplot as plt\n",
    "\n",
    "\n",
    "path = pathlib.Path(\n",
    "    \"/p/scratch/deepacf/emmerich1/dcv2/multi-level-all-fields-1964-2023/results/tensors\"\n",
    ")"
   ]
  },
  {
   "cell_type": "code",
   "execution_count": null,
   "metadata": {},
   "outputs": [],
   "source": [
    "def get_epoch_from_file_name(p: pathlib.Path) -> int:\n",
    "    return int(p.name.split(\"-\")[1])\n",
    "\n",
    "\n",
    "def sort_by_epoch(paths: list[pathlib.Path]) -> list[pathlib.Path]:\n",
    "    return sorted(paths, key=lambda p: get_epoch_from_file_name(p))\n",
    "\n",
    "\n",
    "distance_files = sort_by_epoch(path.glob(\"*-distances.pt\"))\n",
    "embeddings_files = sort_by_epoch(path.glob(\"*-embeddings.pt\"))\n",
    "centroids_files = sort_by_epoch(path.glob(\"*-centroids.pt\"))\n",
    "\n",
    "device = torch.device(\"cpu\")\n",
    "\n",
    "distances = [torch.load(file, map_location=device) for file in distance_files]\n",
    "embeddings = [\n",
    "    torch.load(file, map_location=device) for file in embeddings_files\n",
    "]\n",
    "centroids = [torch.load(file, map_location=device) for file in centroids_files]"
   ]
  },
  {
   "cell_type": "code",
   "execution_count": null,
   "metadata": {},
   "outputs": [],
   "source": [
    "epochs = [get_epoch_from_file_name(file) for file in centroids_files]\n",
    "epochs"
   ]
  },
  {
   "cell_type": "code",
   "execution_count": null,
   "metadata": {},
   "outputs": [],
   "source": [
    "# embeddings has shape (N_heads, N_crops, N_samples, N_dim)\n",
    "dot_products = torch.mm(embeddings[0][0][0], centroids[0].t())\n",
    "local_distances, local_assignments = dot_products.max(dim=1)"
   ]
  },
  {
   "cell_type": "code",
   "execution_count": null,
   "metadata": {},
   "outputs": [],
   "source": [
    "local_assignments"
   ]
  },
  {
   "cell_type": "code",
   "execution_count": null,
   "metadata": {},
   "outputs": [],
   "source": [
    "# N_heads is 3\n",
    "def calculate_ssd(d: torch.Tensor) -> float:\n",
    "    return (d.abs() ** 2).sum()\n",
    "\n",
    "\n",
    "ssd_per_head = [(d.abs() ** 2).sum(dim=1) for d in distances]\n",
    "ssd_mean = [ssd.mean() for ssd in ssd_per_head]\n",
    "ssd_std = [ssd.std() for ssd in ssd_per_head]"
   ]
  },
  {
   "cell_type": "code",
   "execution_count": null,
   "metadata": {},
   "outputs": [],
   "source": [
    "plt.figure()\n",
    "plt.errorbar(epochs, ssd_mean, ssd_std)"
   ]
  }
 ],
 "metadata": {
  "kernelspec": {
   "display_name": "a6-cuda",
   "language": "python",
   "name": "a6-cuda"
  }
 },
 "nbformat": 4,
 "nbformat_minor": 2
}
