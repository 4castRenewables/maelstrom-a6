{
 "cells": [
  {
   "cell_type": "code",
   "execution_count": null,
   "id": "dba1ec60",
   "metadata": {},
   "outputs": [],
   "source": [
    "%load_ext autoreload\n",
    "%autoreload 2"
   ]
  },
  {
   "cell_type": "code",
   "execution_count": null,
   "id": "6cf47008",
   "metadata": {},
   "outputs": [],
   "source": [
    "import a6\n",
    "import typing as t\n",
    "import xarray as xr\n",
    "import math\n",
    "import matplotlib.pyplot as plt\n",
    "import numpy as np"
   ]
  },
  {
   "cell_type": "code",
   "execution_count": null,
   "id": "583783d3",
   "metadata": {},
   "outputs": [],
   "source": [
    "gwl = xr.open_dataset(\"../data/gwl.nc\")\n",
    "gwl"
   ]
  },
  {
   "cell_type": "code",
   "execution_count": null,
   "id": "b5016a8a",
   "metadata": {},
   "outputs": [],
   "source": [
    "data = xr.open_dataset(\n",
    "    \"/home/fabian/Documents/MAELSTROM/bootcamp/data/ml_level_137_temperature_daily_mean_2017_2020.nc\"\n",
    ")\n",
    "data_2 = xr.open_dataset(\"/home/fabian/Documents/MAELSTROM/data/pca/pressure_level_500_950_daily_mean_2017_2020.nc\")"
   ]
  },
  {
   "cell_type": "code",
   "execution_count": null,
   "id": "b9cf4e3c",
   "metadata": {},
   "outputs": [],
   "source": [
    "modes = a6.modes.methods.determine_lifetimes_of_modes(gwl[\"GWL\"])"
   ]
  },
  {
   "cell_type": "code",
   "execution_count": null,
   "id": "c3361385",
   "metadata": {},
   "outputs": [],
   "source": [
    "a6.plotting.plot_modes_durations(modes)"
   ]
  },
  {
   "cell_type": "code",
   "execution_count": null,
   "id": "c1ac63b6",
   "metadata": {},
   "outputs": [],
   "source": [
    "mode = modes.get_mode(1)\n",
    "datetimes = list(mode.get_dates(start=data[\"time\"][0], end=data[\"time\"][-1]))"
   ]
  },
  {
   "cell_type": "code",
   "execution_count": null,
   "id": "1678a076",
   "metadata": {},
   "outputs": [],
   "source": [
    "data_2[\"z_h\"] = a6.features.methods.calculate_geopotential_height(data_2[\"z\"])\n",
    "data_2"
   ]
  },
  {
   "cell_type": "code",
   "execution_count": null,
   "id": "2e5d8e5a",
   "metadata": {},
   "outputs": [],
   "source": [
    "a6.plotting.plot_fields_for_dates(field=data[\"t\"], dates=datetimes)"
   ]
  },
  {
   "cell_type": "code",
   "execution_count": null,
   "id": "c9f784c9",
   "metadata": {},
   "outputs": [],
   "source": [
    "a6.plotting.plot_contours_for_field_and_dates(field=data_2[\"z_h\"].sel(level=500), dates=datetimes, temperature=data[\"t\"].isel(time=0))"
   ]
  },
  {
   "cell_type": "code",
   "execution_count": null,
   "id": "d142f128",
   "metadata": {},
   "outputs": [],
   "source": [
    "a6.plotting.plot_wind_speed_for_dates(\n",
    "    field=data_2.sel(level=500), dates=datetimes\n",
    ")"
   ]
  },
  {
   "cell_type": "code",
   "execution_count": null,
   "id": "a69ed826",
   "metadata": {},
   "outputs": [],
   "source": []
  }
 ],
 "metadata": {
  "kernelspec": {
   "display_name": "a6",
   "language": "python",
   "name": "a6"
  },
  "language_info": {
   "codemirror_mode": {
    "name": "ipython",
    "version": 3
   },
   "file_extension": ".py",
   "mimetype": "text/x-python",
   "name": "python",
   "nbconvert_exporter": "python",
   "pygments_lexer": "ipython3",
   "version": "3.9.9"
  }
 },
 "nbformat": 4,
 "nbformat_minor": 5
}
