{
 "cells": [
  {
   "cell_type": "markdown",
   "id": "f9d5bacb",
   "metadata": {},
   "source": [
    "# Großwetterlagen Analysis\n",
    "\n",
    "This notebook aims to analyze Großwetterlagen (GWL). \n",
    "\n",
    "For each day where a specific GWL appeared, a plot is created for the $500 hPa$ pressure level that shows:\n",
    "\n",
    "- geopotential heights\n",
    "- temperature\n",
    "- wind speed and direction\n",
    "- temperature, geopotential height and wind speed/direction at each individual appearance\n",
    "This allows to see what similarities these quantities share for each day where the specific GWL appeared.\n",
    "We further want to analyze GWL statistics:\n",
    "\n",
    "- abundance\n",
    "- stability (duration mean, std, etc.)\n",
    "- forecast uncertainty per GWL\n"
   ]
  },
  {
   "cell_type": "code",
   "execution_count": null,
   "id": "dba1ec60",
   "metadata": {},
   "outputs": [],
   "source": [
    "%load_ext autoreload\n",
    "%autoreload 2"
   ]
  },
  {
   "cell_type": "code",
   "execution_count": null,
   "id": "6cf47008",
   "metadata": {},
   "outputs": [],
   "source": [
    "import a6\n",
    "import typing as t\n",
    "import xarray as xr\n",
    "import math\n",
    "import matplotlib.pyplot as plt\n",
    "import numpy as np\n",
    "import pathlib\n",
    "import cartopy.crs as ccrs"
   ]
  },
  {
   "cell_type": "code",
   "execution_count": null,
   "id": "583783d3",
   "metadata": {},
   "outputs": [],
   "source": [
    "path = pathlib.Path(\"/home/fabian/Documents/MAELSTROM/gwl\")\n",
    "\n",
    "gwl = xr.open_dataset(\"../data/gwl.nc\")\n",
    "modes = a6.modes.methods.determine_lifetimes_of_modes(gwl[\"GWL\"])\n",
    "scores = xr.open_dataset(\"../data/scores.nc\")\n",
    "\n",
    "data = xr.open_dataset(\n",
    "    \"/home/fabian/Documents/MAELSTROM/data/pca/pressure_level_500_950_daily_mean_2017_2020.nc\"\n",
    ")"
   ]
  },
  {
   "cell_type": "code",
   "execution_count": null,
   "id": "e2d0b200",
   "metadata": {},
   "outputs": [],
   "source": [
    "data = (\n",
    "    a6.datasets.methods.select.select_levels(levels=500)\n",
    "    >> a6.features.methods.geopotential.calculate_geopotential_height()\n",
    ").apply_to(data)"
   ]
  },
  {
   "cell_type": "code",
   "execution_count": null,
   "id": "a69ed826",
   "metadata": {},
   "outputs": [],
   "source": [
    "for mode in modes:\n",
    "    datetimes = list(\n",
    "        mode.get_dates(start=data[\"time\"][0], end=data[\"time\"][-1])\n",
    "    )\n",
    "    fig, _ = a6.plotting.plot_combined(\n",
    "        data=data,\n",
    "        dates=datetimes,\n",
    "    )\n",
    "    fig.savefig(path / f\"gwl_{mode.label}.png\")"
   ]
  },
  {
   "cell_type": "code",
   "execution_count": null,
   "id": "c3361385",
   "metadata": {},
   "outputs": [],
   "source": [
    "fig, _ = a6.plotting.plot_modes_durations(modes)\n",
    "fig.savefig(path / \"gwls.pdf\")"
   ]
  },
  {
   "cell_type": "code",
   "execution_count": null,
   "id": "2984ebd1",
   "metadata": {},
   "outputs": [],
   "source": [
    "scores_per_mode = a6.evaluation.modes.evaluate_scores_per_mode(\n",
    "    modes, scores=[scores]\n",
    ")\n",
    "scores_per_mode"
   ]
  },
  {
   "cell_type": "code",
   "execution_count": null,
   "id": "d3093b52",
   "metadata": {},
   "outputs": [],
   "source": []
  }
 ],
 "metadata": {
  "kernelspec": {
   "display_name": "a6",
   "language": "python",
   "name": "a6"
  },
  "language_info": {
   "codemirror_mode": {
    "name": "ipython",
    "version": 3
   },
   "file_extension": ".py",
   "mimetype": "text/x-python",
   "name": "python",
   "nbconvert_exporter": "python",
   "pygments_lexer": "ipython3",
   "version": "3.10.8"
  }
 },
 "nbformat": 4,
 "nbformat_minor": 5
}
