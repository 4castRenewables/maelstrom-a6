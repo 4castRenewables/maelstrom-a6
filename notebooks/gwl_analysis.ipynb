{
 "cells": [
  {
   "cell_type": "code",
   "execution_count": null,
   "id": "dba1ec60",
   "metadata": {},
   "outputs": [],
   "source": [
    "%load_ext autoreload\n",
    "%autoreload 2"
   ]
  },
  {
   "cell_type": "code",
   "execution_count": null,
   "id": "6cf47008",
   "metadata": {},
   "outputs": [],
   "source": [
    "import a6\n",
    "import typing as t\n",
    "import xarray as xr\n",
    "import math\n",
    "import matplotlib.pyplot as plt\n",
    "import numpy as np\n",
    "import pathlib\n",
    "import cartopy.crs as ccrs"
   ]
  },
  {
   "cell_type": "code",
   "execution_count": null,
   "id": "583783d3",
   "metadata": {},
   "outputs": [],
   "source": [
    "path = pathlib.Path(\"/home/fabian/Documents/MAELSTROM/gwl\")\n",
    "\n",
    "gwl = xr.open_dataset(\"../data/gwl.nc\")\n",
    "modes = a6.modes.methods.determine_lifetimes_of_modes(gwl[\"GWL\"])\n",
    "scores = xr.open_dataset(\"../data/scores.nc\")\n",
    "\n",
    "data = xr.open_dataset(\n",
    "    \"/home/fabian/Documents/MAELSTROM/data/pca/pressure_level_500_950_daily_mean_2017_2020.nc\"\n",
    ").sel(level=500)"
   ]
  },
  {
   "cell_type": "code",
   "execution_count": null,
   "id": "e2d0b200",
   "metadata": {},
   "outputs": [],
   "source": [
    "data[\"z_h\"] = a6.features.methods.geopotential.calculate_geopotential_height(\n",
    "    data[\"z\"]\n",
    ")"
   ]
  },
  {
   "cell_type": "code",
   "execution_count": null,
   "id": "05368d62",
   "metadata": {},
   "outputs": [],
   "source": [
    "d = data.isel(time=0)[\"z_h\"]\n",
    "d = a6.datasets.methods.select.select_dwd_area(d)\n",
    "a6.plotting.plot_geopotential_height_contours(d)\n",
    "plt.show()\n",
    "\n",
    "convolved = a6.features.methods.convolution.apply_kernel(\n",
    "    d, kernel=\"mean\", size=10\n",
    ")\n",
    "a6.plotting.plot_geopotential_height_contours(d.copy(data=convolved, deep=True))\n",
    "plt.show()\n",
    "\n",
    "pooled = a6.features.methods.pooling.apply_pooling(\n",
    "    convolved, mode=\"mean\", size=10\n",
    ")\n",
    "a6.plotting.plot_2d_data(pooled, flip=True)\n",
    "plt.show()"
   ]
  },
  {
   "cell_type": "code",
   "execution_count": null,
   "id": "a860c17a",
   "metadata": {},
   "outputs": [],
   "source": [
    "d = data.isel(time=0)\n",
    "# d = a6.datasets.methods.select.select_dwd_area(d)\n",
    "ssrs = []\n",
    "sizes = list(range(5, 40, 5))\n",
    "for size in sizes:\n",
    "    convolved = a6.features.methods.convolution.apply_kernel(\n",
    "        d, kernel=\"gaussian\", size=size, sigma=10\n",
    "    )\n",
    "    ssrs.append(\n",
    "        a6.evaluation.residuals.calculate_normalized_root_ssr(d, convolved)\n",
    "    )\n",
    "xr.DataArray(ssrs, coords={\"size\": sizes}).plot()"
   ]
  },
  {
   "cell_type": "code",
   "execution_count": null,
   "id": "fe5ab022",
   "metadata": {},
   "outputs": [],
   "source": [
    "var_ssrs = {}\n",
    "sizes = list(range(5, 40, 1))\n",
    "for var in data.isel(time=0).data_vars:\n",
    "    d = data.isel(time=0)[var]\n",
    "    d = a6.datasets.methods.select.select_dwd_area(d)\n",
    "    ssrs = []\n",
    "    for size in sizes:\n",
    "        convolved = a6.features.methods.convolution.apply_kernel(\n",
    "            d, kernel=\"mean\", size=size\n",
    "        )\n",
    "        ssrs.append(\n",
    "            a6.evaluation.residuals.calculate_normalized_root_ssr(d, convolved)\n",
    "        )\n",
    "    name = f\"SSR({var})\"\n",
    "    var_ssrs[name] = xr.DataArray(\n",
    "        ssrs, coords={\"size\": sizes}, dims=[\"size\"], name=name\n",
    "    )\n",
    "\n",
    "ds = xr.Dataset(\n",
    "    var_ssrs,\n",
    "    coords={\"size\": sizes},\n",
    ")"
   ]
  },
  {
   "cell_type": "code",
   "execution_count": null,
   "id": "7adceef2",
   "metadata": {},
   "outputs": [],
   "source": [
    "for var in ds.data_vars:\n",
    "    ds[var].plot(label=var)\n",
    "plt.legend()\n",
    "plt.ylabel(\"SSR\")\n",
    "plt.show()"
   ]
  },
  {
   "cell_type": "code",
   "execution_count": null,
   "id": "c3361385",
   "metadata": {},
   "outputs": [],
   "source": [
    "fig, _ = a6.plotting.plot_modes_durations(modes)\n",
    "fig.savefig(path / \"gwls.pdf\")"
   ]
  },
  {
   "cell_type": "code",
   "execution_count": null,
   "id": "2984ebd1",
   "metadata": {},
   "outputs": [],
   "source": [
    "scores_per_mode = a6.evaluation.modes.evaluate_scores_per_mode(\n",
    "    modes, scores=[scores]\n",
    ")\n",
    "scores_per_mode"
   ]
  },
  {
   "cell_type": "code",
   "execution_count": null,
   "id": "a69ed826",
   "metadata": {},
   "outputs": [],
   "source": [
    "for mode in modes:\n",
    "    datetimes = list(\n",
    "        mode.get_dates(start=data[\"time\"][0], end=data[\"time\"][-1])\n",
    "    )\n",
    "    fig, _ = a6.plotting.plot_combined(\n",
    "        data=data,\n",
    "        dates=datetimes,\n",
    "    )\n",
    "    fig.savefig(path / f\"gwl_{mode.label}.png\")"
   ]
  },
  {
   "cell_type": "code",
   "execution_count": null,
   "id": "d3093b52",
   "metadata": {},
   "outputs": [],
   "source": []
  }
 ],
 "metadata": {
  "kernelspec": {
   "display_name": "a6",
   "language": "python",
   "name": "a6"
  },
  "language_info": {
   "codemirror_mode": {
    "name": "ipython",
    "version": 3
   },
   "file_extension": ".py",
   "mimetype": "text/x-python",
   "name": "python",
   "nbconvert_exporter": "python",
   "pygments_lexer": "ipython3",
   "version": "3.10.8"
  }
 },
 "nbformat": 4,
 "nbformat_minor": 5
}
