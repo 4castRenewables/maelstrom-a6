{
 "cells": [
  {
   "cell_type": "code",
   "execution_count": null,
   "id": "dba1ec60",
   "metadata": {},
   "outputs": [],
   "source": [
    "%load_ext autoreload\n",
    "%autoreload 2"
   ]
  },
  {
   "cell_type": "code",
   "execution_count": null,
   "id": "6cf47008",
   "metadata": {},
   "outputs": [],
   "source": [
    "import a6\n",
    "import typing as t\n",
    "import xarray as xr\n",
    "import math\n",
    "import matplotlib.pyplot as plt\n",
    "import numpy as np\n",
    "import pathlib"
   ]
  },
  {
   "cell_type": "code",
   "execution_count": null,
   "id": "583783d3",
   "metadata": {},
   "outputs": [],
   "source": [
    "path = pathlib.Path(\"/home/fabian/Documents/MAELSTROM/gwl\")\n",
    "\n",
    "gwl = xr.open_dataset(\"../data/gwl.nc\")\n",
    "modes = a6.modes.methods.determine_lifetimes_of_modes(gwl[\"GWL\"])\n",
    "\n",
    "data = xr.open_dataset(\n",
    "    \"/home/fabian/Documents/MAELSTROM/bootcamp/data/ml_level_137_temperature_daily_mean_2017_2020.nc\"\n",
    ")\n",
    "data_2 = xr.open_dataset(\n",
    "    \"/home/fabian/Documents/MAELSTROM/data/pca/pressure_level_500_950_daily_mean_2017_2020.nc\"\n",
    ").sel(level=500)\n",
    "data_2[\"z_h\"] = a6.features.methods.calculate_geopotential_height(data_2[\"z\"])"
   ]
  },
  {
   "cell_type": "code",
   "execution_count": null,
   "id": "c3361385",
   "metadata": {},
   "outputs": [],
   "source": [
    "fig, _ = a6.plotting.plot_modes_durations(modes)\n",
    "fig.savefig(path / \"gwls.pdf\")"
   ]
  },
  {
   "cell_type": "code",
   "execution_count": null,
   "id": "a69ed826",
   "metadata": {},
   "outputs": [],
   "source": [
    "for mode in modes:\n",
    "    datetimes = list(\n",
    "        mode.get_dates(start=data[\"time\"][0], end=data[\"time\"][-1])\n",
    "    )\n",
    "    fig, _ = a6.plotting.plot_combined(\n",
    "        data=data_2,\n",
    "        dates=datetimes,\n",
    "    )\n",
    "    fig.savefig(path / f\"gwl_{mode.label}.png\")"
   ]
  },
  {
   "cell_type": "code",
   "execution_count": null,
   "id": "4dc9191a",
   "metadata": {},
   "outputs": [],
   "source": []
  }
 ],
 "metadata": {
  "kernelspec": {
   "display_name": "a6",
   "language": "python",
   "name": "a6"
  },
  "language_info": {
   "codemirror_mode": {
    "name": "ipython",
    "version": 3
   },
   "file_extension": ".py",
   "mimetype": "text/x-python",
   "name": "python",
   "nbconvert_exporter": "python",
   "pygments_lexer": "ipython3",
   "version": "3.9.9"
  }
 },
 "nbformat": 4,
 "nbformat_minor": 5
}
