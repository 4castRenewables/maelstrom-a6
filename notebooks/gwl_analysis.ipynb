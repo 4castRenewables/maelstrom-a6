{
 "cells": [
  {
   "cell_type": "code",
   "execution_count": null,
   "id": "dba1ec60",
   "metadata": {},
   "outputs": [],
   "source": [
    "%load_ext autoreload\n",
    "%autoreload 2"
   ]
  },
  {
   "cell_type": "code",
   "execution_count": null,
   "id": "6cf47008",
   "metadata": {},
   "outputs": [],
   "source": [
    "import a6\n",
    "import xarray as xr"
   ]
  },
  {
   "cell_type": "code",
   "execution_count": null,
   "id": "583783d3",
   "metadata": {},
   "outputs": [],
   "source": [
    "gwl = xr.open_dataset(\"../data/gwl.nc\")\n",
    "gwl"
   ]
  },
  {
   "cell_type": "code",
   "execution_count": null,
   "id": "b9cf4e3c",
   "metadata": {},
   "outputs": [],
   "source": [
    "modes = a6.modes.methods.determine_lifetimes_of_modes(gwl[\"GWL\"])"
   ]
  },
  {
   "cell_type": "code",
   "execution_count": null,
   "id": "c3361385",
   "metadata": {},
   "outputs": [],
   "source": [
    "a6.plotting.plot_modes_durations(modes)"
   ]
  },
  {
   "cell_type": "code",
   "execution_count": null,
   "id": "103b3c97",
   "metadata": {},
   "outputs": [],
   "source": [
    "from datetime import datetime\n",
    "gwl.sel(time=slice(datetime(2022, 9, 1), datetime(2022, 9, 30)))[\"GWL\"].values"
   ]
  },
  {
   "cell_type": "code",
   "execution_count": null,
   "id": "c8be1974",
   "metadata": {},
   "outputs": [],
   "source": [
    "modes.get_mode(1)"
   ]
  },
  {
   "cell_type": "code",
   "execution_count": null,
   "id": "c1ac63b6",
   "metadata": {},
   "outputs": [],
   "source": []
  }
 ],
 "metadata": {
  "kernelspec": {
   "display_name": "a6",
   "language": "python",
   "name": "a6"
  },
  "language_info": {
   "codemirror_mode": {
    "name": "ipython",
    "version": 3
   },
   "file_extension": ".py",
   "mimetype": "text/x-python",
   "name": "python",
   "nbconvert_exporter": "python",
   "pygments_lexer": "ipython3",
   "version": "3.9.9"
  }
 },
 "nbformat": 4,
 "nbformat_minor": 5
}
